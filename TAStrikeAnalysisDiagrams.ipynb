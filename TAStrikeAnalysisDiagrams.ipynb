{
  "nbformat": 4,
  "nbformat_minor": 0,
  "metadata": {
    "colab": {
      "provenance": [],
      "include_colab_link": true
    },
    "kernelspec": {
      "name": "python3",
      "display_name": "Python 3"
    },
    "language_info": {
      "name": "python"
    }
  },
  "cells": [
    {
      "cell_type": "markdown",
      "metadata": {
        "id": "view-in-github",
        "colab_type": "text"
      },
      "source": [
        "<a href=\"https://colab.research.google.com/github/samanthasu12/TA-Strike-Analysis-For-Daily-Nexus/blob/main/TAStrikeAnalysisDiagrams.ipynb\" target=\"_parent\"><img src=\"https://colab.research.google.com/assets/colab-badge.svg\" alt=\"Open In Colab\"/></a>"
      ]
    },
    {
      "cell_type": "code",
      "execution_count": 1,
      "metadata": {
        "id": "w41eErZ2yCAH",
        "colab": {
          "base_uri": "https://localhost:8080/",
          "height": 647
        },
        "outputId": "e2e5f201-5d33-4f58-9c60-86d0090da791"
      },
      "outputs": [
        {
          "output_type": "stream",
          "name": "stdout",
          "text": [
            "Looking in indexes: https://pypi.org/simple, https://us-python.pkg.dev/colab-wheels/public/simple/\n",
            "Requirement already satisfied: matplotlib in /usr/local/lib/python3.8/dist-packages (3.1.1)\n",
            "Collecting matplotlib\n",
            "  Using cached matplotlib-3.6.2-cp38-cp38-manylinux_2_12_x86_64.manylinux2010_x86_64.whl (9.4 MB)\n",
            "Requirement already satisfied: kiwisolver>=1.0.1 in /usr/local/lib/python3.8/dist-packages (from matplotlib) (1.4.4)\n",
            "Requirement already satisfied: pillow>=6.2.0 in /usr/local/lib/python3.8/dist-packages (from matplotlib) (7.1.2)\n",
            "Requirement already satisfied: fonttools>=4.22.0 in /usr/local/lib/python3.8/dist-packages (from matplotlib) (4.38.0)\n",
            "Requirement already satisfied: python-dateutil>=2.7 in /usr/local/lib/python3.8/dist-packages (from matplotlib) (2.8.2)\n",
            "Requirement already satisfied: packaging>=20.0 in /usr/local/lib/python3.8/dist-packages (from matplotlib) (21.3)\n",
            "Requirement already satisfied: pyparsing>=2.2.1 in /usr/local/lib/python3.8/dist-packages (from matplotlib) (3.0.9)\n",
            "Requirement already satisfied: cycler>=0.10 in /usr/local/lib/python3.8/dist-packages (from matplotlib) (0.11.0)\n",
            "Requirement already satisfied: contourpy>=1.0.1 in /usr/local/lib/python3.8/dist-packages (from matplotlib) (1.0.6)\n",
            "Requirement already satisfied: numpy>=1.19 in /usr/local/lib/python3.8/dist-packages (from matplotlib) (1.21.6)\n",
            "Requirement already satisfied: six>=1.5 in /usr/local/lib/python3.8/dist-packages (from python-dateutil>=2.7->matplotlib) (1.15.0)\n",
            "Installing collected packages: matplotlib\n",
            "  Attempting uninstall: matplotlib\n",
            "    Found existing installation: matplotlib 3.1.1\n",
            "    Uninstalling matplotlib-3.1.1:\n",
            "      Successfully uninstalled matplotlib-3.1.1\n",
            "Successfully installed matplotlib-3.6.2\n"
          ]
        },
        {
          "output_type": "display_data",
          "data": {
            "application/vnd.colab-display-data+json": {
              "pip_warning": {
                "packages": [
                  "matplotlib",
                  "mpl_toolkits"
                ]
              }
            }
          },
          "metadata": {}
        },
        {
          "output_type": "stream",
          "name": "stdout",
          "text": [
            "Looking in indexes: https://pypi.org/simple, https://us-python.pkg.dev/colab-wheels/public/simple/\n",
            "Requirement already satisfied: matplotlib in /usr/local/lib/python3.8/dist-packages (3.6.2)\n",
            "Requirement already satisfied: pillow>=6.2.0 in /usr/local/lib/python3.8/dist-packages (from matplotlib) (7.1.2)\n",
            "Requirement already satisfied: python-dateutil>=2.7 in /usr/local/lib/python3.8/dist-packages (from matplotlib) (2.8.2)\n",
            "Requirement already satisfied: kiwisolver>=1.0.1 in /usr/local/lib/python3.8/dist-packages (from matplotlib) (1.4.4)\n",
            "Requirement already satisfied: pyparsing>=2.2.1 in /usr/local/lib/python3.8/dist-packages (from matplotlib) (3.0.9)\n",
            "Requirement already satisfied: contourpy>=1.0.1 in /usr/local/lib/python3.8/dist-packages (from matplotlib) (1.0.6)\n",
            "Requirement already satisfied: numpy>=1.19 in /usr/local/lib/python3.8/dist-packages (from matplotlib) (1.21.6)\n",
            "Requirement already satisfied: cycler>=0.10 in /usr/local/lib/python3.8/dist-packages (from matplotlib) (0.11.0)\n",
            "Requirement already satisfied: packaging>=20.0 in /usr/local/lib/python3.8/dist-packages (from matplotlib) (21.3)\n",
            "Requirement already satisfied: fonttools>=4.22.0 in /usr/local/lib/python3.8/dist-packages (from matplotlib) (4.38.0)\n",
            "Requirement already satisfied: six>=1.5 in /usr/local/lib/python3.8/dist-packages (from python-dateutil>=2.7->matplotlib) (1.15.0)\n"
          ]
        }
      ],
      "source": [
        "import numpy as np\n",
        "import pandas as pd\n",
        "import altair as alt\n",
        "from datetime import date\n",
        "import matplotlib.pyplot as plt\n",
        "import numpy as np\n",
        "!pip install matplotlib --upgrade\n",
        "!pip install -U matplotlib\n",
        " \n",
        "%matplotlib inline "
      ]
    },
    {
      "cell_type": "code",
      "source": [
        "df1=pd.DataFrame(np.array([[1, 2, 9.3], [4, 5, 8.1], [7, 8, 10.6], [1,2,12],[2,3,13.2],[2,4,13.7], [1,2,10.6]]),index=[\"Week0\", \"Week1\",\"Week2\",\"Week3\",\"Week4\", \"Week5\", \"Week6\"],columns=[\"Discord\",\"Twitter\",\"Reddit\"])\n",
        "df2=pd.DataFrame(np.array([[1, 2, 79.8], [4, 5, 80.1], [7, 8, 79.5], [1,2,77.6],[2,3,75.7],[2,4,76], [1,2,79.5]]),index=[\"Week0\", \"Week1\",\"Week2\",\"Week3\",\"Week4\", \"Week5\", \"Week6\"],columns=[\"Discord\",\"Twitter\",\"Reddit\"])\n",
        "df3=pd.DataFrame(np.array([[1, 2, 10.9], [4, 5, 11.8], [7, 8, 9.9], [1,2,10.5],[2,3,11.1],[2,4,10.3], [1,2,9.9]]),index=[\"Week0\", \"Week1\",\"Week2\",\"Week3\",\"Week4\", \"Week5\", \"Week6\"],columns=[\"Discord\",\"Twitter\",\"Reddit\"])\n",
        "def prep_df(df, name):\n",
        "    df = df.stack().reset_index()\n",
        "    df.columns = ['c1', 'c2', 'values']\n",
        "    df['DF'] = name\n",
        "    return df\n",
        "df1 = prep_df(df1, 'Negative')\n",
        "df2 = prep_df(df2, 'Neutral')\n",
        "df3 = prep_df(df3, 'Positive')\n",
        "\n",
        "df = pd.concat([df1, df2, df3])"
      ],
      "metadata": {
        "id": "jM7Rc0JxVtA3"
      },
      "execution_count": 2,
      "outputs": []
    },
    {
      "cell_type": "code",
      "source": [
        "alt.Chart(df).mark_bar().encode(\n",
        "\n",
        "    x=alt.X('c2:N', title=None),\n",
        "\n",
        "    y=alt.Y('sum(values):Q',\n",
        "        axis=alt.Axis(\n",
        "            grid=False,\n",
        "            title=None)),\n",
        "\n",
        "    column=alt.Column('c1:N', title=\"Percent Analysis of Responses to the TA Strike from Discord, Reddit, and Twitter\"),\n",
        "\n",
        "    color=alt.Color('DF:N',\n",
        "            scale=alt.Scale(\n",
        "                range=['#ff6f69', '#ffcc5c','#96ceb4'],\n",
        "            ),\n",
        "        ))\\\n",
        "    .configure_view(\n",
        "        strokeOpacity=0    \n",
        "    )"
      ],
      "metadata": {
        "colab": {
          "base_uri": "https://localhost:8080/",
          "height": 423
        },
        "id": "7rUqY6j9Yj5m",
        "outputId": "3b21f3aa-a4e3-4487-a8b3-3e406fef78c6"
      },
      "execution_count": 3,
      "outputs": [
        {
          "output_type": "execute_result",
          "data": {
            "text/html": [
              "\n",
              "<div id=\"altair-viz-dcb6f1f1f08642f49ca094da43fc3e1c\"></div>\n",
              "<script type=\"text/javascript\">\n",
              "  var VEGA_DEBUG = (typeof VEGA_DEBUG == \"undefined\") ? {} : VEGA_DEBUG;\n",
              "  (function(spec, embedOpt){\n",
              "    let outputDiv = document.currentScript.previousElementSibling;\n",
              "    if (outputDiv.id !== \"altair-viz-dcb6f1f1f08642f49ca094da43fc3e1c\") {\n",
              "      outputDiv = document.getElementById(\"altair-viz-dcb6f1f1f08642f49ca094da43fc3e1c\");\n",
              "    }\n",
              "    const paths = {\n",
              "      \"vega\": \"https://cdn.jsdelivr.net/npm//vega@5?noext\",\n",
              "      \"vega-lib\": \"https://cdn.jsdelivr.net/npm//vega-lib?noext\",\n",
              "      \"vega-lite\": \"https://cdn.jsdelivr.net/npm//vega-lite@4.17.0?noext\",\n",
              "      \"vega-embed\": \"https://cdn.jsdelivr.net/npm//vega-embed@6?noext\",\n",
              "    };\n",
              "\n",
              "    function maybeLoadScript(lib, version) {\n",
              "      var key = `${lib.replace(\"-\", \"\")}_version`;\n",
              "      return (VEGA_DEBUG[key] == version) ?\n",
              "        Promise.resolve(paths[lib]) :\n",
              "        new Promise(function(resolve, reject) {\n",
              "          var s = document.createElement('script');\n",
              "          document.getElementsByTagName(\"head\")[0].appendChild(s);\n",
              "          s.async = true;\n",
              "          s.onload = () => {\n",
              "            VEGA_DEBUG[key] = version;\n",
              "            return resolve(paths[lib]);\n",
              "          };\n",
              "          s.onerror = () => reject(`Error loading script: ${paths[lib]}`);\n",
              "          s.src = paths[lib];\n",
              "        });\n",
              "    }\n",
              "\n",
              "    function showError(err) {\n",
              "      outputDiv.innerHTML = `<div class=\"error\" style=\"color:red;\">${err}</div>`;\n",
              "      throw err;\n",
              "    }\n",
              "\n",
              "    function displayChart(vegaEmbed) {\n",
              "      vegaEmbed(outputDiv, spec, embedOpt)\n",
              "        .catch(err => showError(`Javascript Error: ${err.message}<br>This usually means there's a typo in your chart specification. See the javascript console for the full traceback.`));\n",
              "    }\n",
              "\n",
              "    if(typeof define === \"function\" && define.amd) {\n",
              "      requirejs.config({paths});\n",
              "      require([\"vega-embed\"], displayChart, err => showError(`Error loading script: ${err.message}`));\n",
              "    } else {\n",
              "      maybeLoadScript(\"vega\", \"5\")\n",
              "        .then(() => maybeLoadScript(\"vega-lite\", \"4.17.0\"))\n",
              "        .then(() => maybeLoadScript(\"vega-embed\", \"6\"))\n",
              "        .catch(showError)\n",
              "        .then(() => displayChart(vegaEmbed));\n",
              "    }\n",
              "  })({\"config\": {\"view\": {\"continuousWidth\": 400, \"continuousHeight\": 300, \"strokeOpacity\": 0}}, \"data\": {\"name\": \"data-07867f481a7d34898186e2dbb049f57c\"}, \"mark\": \"bar\", \"encoding\": {\"color\": {\"field\": \"DF\", \"scale\": {\"range\": [\"#ff6f69\", \"#ffcc5c\", \"#96ceb4\"]}, \"type\": \"nominal\"}, \"column\": {\"field\": \"c1\", \"title\": \"Percent Analysis of Responses to the TA Strike from Discord, Reddit, and Twitter\", \"type\": \"nominal\"}, \"x\": {\"field\": \"c2\", \"title\": null, \"type\": \"nominal\"}, \"y\": {\"aggregate\": \"sum\", \"axis\": {\"grid\": false, \"title\": null}, \"field\": \"values\", \"type\": \"quantitative\"}}, \"$schema\": \"https://vega.github.io/schema/vega-lite/v4.17.0.json\", \"datasets\": {\"data-07867f481a7d34898186e2dbb049f57c\": [{\"c1\": \"Week0\", \"c2\": \"Discord\", \"values\": 1.0, \"DF\": \"Negative\"}, {\"c1\": \"Week0\", \"c2\": \"Twitter\", \"values\": 2.0, \"DF\": \"Negative\"}, {\"c1\": \"Week0\", \"c2\": \"Reddit\", \"values\": 9.3, \"DF\": \"Negative\"}, {\"c1\": \"Week1\", \"c2\": \"Discord\", \"values\": 4.0, \"DF\": \"Negative\"}, {\"c1\": \"Week1\", \"c2\": \"Twitter\", \"values\": 5.0, \"DF\": \"Negative\"}, {\"c1\": \"Week1\", \"c2\": \"Reddit\", \"values\": 8.1, \"DF\": \"Negative\"}, {\"c1\": \"Week2\", \"c2\": \"Discord\", \"values\": 7.0, \"DF\": \"Negative\"}, {\"c1\": \"Week2\", \"c2\": \"Twitter\", \"values\": 8.0, \"DF\": \"Negative\"}, {\"c1\": \"Week2\", \"c2\": \"Reddit\", \"values\": 10.6, \"DF\": \"Negative\"}, {\"c1\": \"Week3\", \"c2\": \"Discord\", \"values\": 1.0, \"DF\": \"Negative\"}, {\"c1\": \"Week3\", \"c2\": \"Twitter\", \"values\": 2.0, \"DF\": \"Negative\"}, {\"c1\": \"Week3\", \"c2\": \"Reddit\", \"values\": 12.0, \"DF\": \"Negative\"}, {\"c1\": \"Week4\", \"c2\": \"Discord\", \"values\": 2.0, \"DF\": \"Negative\"}, {\"c1\": \"Week4\", \"c2\": \"Twitter\", \"values\": 3.0, \"DF\": \"Negative\"}, {\"c1\": \"Week4\", \"c2\": \"Reddit\", \"values\": 13.2, \"DF\": \"Negative\"}, {\"c1\": \"Week5\", \"c2\": \"Discord\", \"values\": 2.0, \"DF\": \"Negative\"}, {\"c1\": \"Week5\", \"c2\": \"Twitter\", \"values\": 4.0, \"DF\": \"Negative\"}, {\"c1\": \"Week5\", \"c2\": \"Reddit\", \"values\": 13.7, \"DF\": \"Negative\"}, {\"c1\": \"Week6\", \"c2\": \"Discord\", \"values\": 1.0, \"DF\": \"Negative\"}, {\"c1\": \"Week6\", \"c2\": \"Twitter\", \"values\": 2.0, \"DF\": \"Negative\"}, {\"c1\": \"Week6\", \"c2\": \"Reddit\", \"values\": 10.6, \"DF\": \"Negative\"}, {\"c1\": \"Week0\", \"c2\": \"Discord\", \"values\": 1.0, \"DF\": \"Neutral\"}, {\"c1\": \"Week0\", \"c2\": \"Twitter\", \"values\": 2.0, \"DF\": \"Neutral\"}, {\"c1\": \"Week0\", \"c2\": \"Reddit\", \"values\": 79.8, \"DF\": \"Neutral\"}, {\"c1\": \"Week1\", \"c2\": \"Discord\", \"values\": 4.0, \"DF\": \"Neutral\"}, {\"c1\": \"Week1\", \"c2\": \"Twitter\", \"values\": 5.0, \"DF\": \"Neutral\"}, {\"c1\": \"Week1\", \"c2\": \"Reddit\", \"values\": 80.1, \"DF\": \"Neutral\"}, {\"c1\": \"Week2\", \"c2\": \"Discord\", \"values\": 7.0, \"DF\": \"Neutral\"}, {\"c1\": \"Week2\", \"c2\": \"Twitter\", \"values\": 8.0, \"DF\": \"Neutral\"}, {\"c1\": \"Week2\", \"c2\": \"Reddit\", \"values\": 79.5, \"DF\": \"Neutral\"}, {\"c1\": \"Week3\", \"c2\": \"Discord\", \"values\": 1.0, \"DF\": \"Neutral\"}, {\"c1\": \"Week3\", \"c2\": \"Twitter\", \"values\": 2.0, \"DF\": \"Neutral\"}, {\"c1\": \"Week3\", \"c2\": \"Reddit\", \"values\": 77.6, \"DF\": \"Neutral\"}, {\"c1\": \"Week4\", \"c2\": \"Discord\", \"values\": 2.0, \"DF\": \"Neutral\"}, {\"c1\": \"Week4\", \"c2\": \"Twitter\", \"values\": 3.0, \"DF\": \"Neutral\"}, {\"c1\": \"Week4\", \"c2\": \"Reddit\", \"values\": 75.7, \"DF\": \"Neutral\"}, {\"c1\": \"Week5\", \"c2\": \"Discord\", \"values\": 2.0, \"DF\": \"Neutral\"}, {\"c1\": \"Week5\", \"c2\": \"Twitter\", \"values\": 4.0, \"DF\": \"Neutral\"}, {\"c1\": \"Week5\", \"c2\": \"Reddit\", \"values\": 76.0, \"DF\": \"Neutral\"}, {\"c1\": \"Week6\", \"c2\": \"Discord\", \"values\": 1.0, \"DF\": \"Neutral\"}, {\"c1\": \"Week6\", \"c2\": \"Twitter\", \"values\": 2.0, \"DF\": \"Neutral\"}, {\"c1\": \"Week6\", \"c2\": \"Reddit\", \"values\": 79.5, \"DF\": \"Neutral\"}, {\"c1\": \"Week0\", \"c2\": \"Discord\", \"values\": 1.0, \"DF\": \"Positive\"}, {\"c1\": \"Week0\", \"c2\": \"Twitter\", \"values\": 2.0, \"DF\": \"Positive\"}, {\"c1\": \"Week0\", \"c2\": \"Reddit\", \"values\": 10.9, \"DF\": \"Positive\"}, {\"c1\": \"Week1\", \"c2\": \"Discord\", \"values\": 4.0, \"DF\": \"Positive\"}, {\"c1\": \"Week1\", \"c2\": \"Twitter\", \"values\": 5.0, \"DF\": \"Positive\"}, {\"c1\": \"Week1\", \"c2\": \"Reddit\", \"values\": 11.8, \"DF\": \"Positive\"}, {\"c1\": \"Week2\", \"c2\": \"Discord\", \"values\": 7.0, \"DF\": \"Positive\"}, {\"c1\": \"Week2\", \"c2\": \"Twitter\", \"values\": 8.0, \"DF\": \"Positive\"}, {\"c1\": \"Week2\", \"c2\": \"Reddit\", \"values\": 9.9, \"DF\": \"Positive\"}, {\"c1\": \"Week3\", \"c2\": \"Discord\", \"values\": 1.0, \"DF\": \"Positive\"}, {\"c1\": \"Week3\", \"c2\": \"Twitter\", \"values\": 2.0, \"DF\": \"Positive\"}, {\"c1\": \"Week3\", \"c2\": \"Reddit\", \"values\": 10.5, \"DF\": \"Positive\"}, {\"c1\": \"Week4\", \"c2\": \"Discord\", \"values\": 2.0, \"DF\": \"Positive\"}, {\"c1\": \"Week4\", \"c2\": \"Twitter\", \"values\": 3.0, \"DF\": \"Positive\"}, {\"c1\": \"Week4\", \"c2\": \"Reddit\", \"values\": 11.1, \"DF\": \"Positive\"}, {\"c1\": \"Week5\", \"c2\": \"Discord\", \"values\": 2.0, \"DF\": \"Positive\"}, {\"c1\": \"Week5\", \"c2\": \"Twitter\", \"values\": 4.0, \"DF\": \"Positive\"}, {\"c1\": \"Week5\", \"c2\": \"Reddit\", \"values\": 10.3, \"DF\": \"Positive\"}, {\"c1\": \"Week6\", \"c2\": \"Discord\", \"values\": 1.0, \"DF\": \"Positive\"}, {\"c1\": \"Week6\", \"c2\": \"Twitter\", \"values\": 2.0, \"DF\": \"Positive\"}, {\"c1\": \"Week6\", \"c2\": \"Reddit\", \"values\": 9.9, \"DF\": \"Positive\"}]}}, {\"mode\": \"vega-lite\"});\n",
              "</script>"
            ],
            "text/plain": [
              "alt.Chart(...)"
            ]
          },
          "metadata": {},
          "execution_count": 3
        }
      ]
    },
    {
      "cell_type": "code",
      "source": [
        "pip install -U matplotlib"
      ],
      "metadata": {
        "colab": {
          "base_uri": "https://localhost:8080/"
        },
        "id": "0nKBMvcxfLiS",
        "outputId": "2f863fa3-df5c-470c-8d65-8472d1a2196b"
      },
      "execution_count": 4,
      "outputs": [
        {
          "output_type": "stream",
          "name": "stdout",
          "text": [
            "Looking in indexes: https://pypi.org/simple, https://us-python.pkg.dev/colab-wheels/public/simple/\n",
            "Requirement already satisfied: matplotlib in /usr/local/lib/python3.8/dist-packages (3.6.2)\n",
            "Requirement already satisfied: python-dateutil>=2.7 in /usr/local/lib/python3.8/dist-packages (from matplotlib) (2.8.2)\n",
            "Requirement already satisfied: pillow>=6.2.0 in /usr/local/lib/python3.8/dist-packages (from matplotlib) (7.1.2)\n",
            "Requirement already satisfied: fonttools>=4.22.0 in /usr/local/lib/python3.8/dist-packages (from matplotlib) (4.38.0)\n",
            "Requirement already satisfied: numpy>=1.19 in /usr/local/lib/python3.8/dist-packages (from matplotlib) (1.21.6)\n",
            "Requirement already satisfied: packaging>=20.0 in /usr/local/lib/python3.8/dist-packages (from matplotlib) (21.3)\n",
            "Requirement already satisfied: pyparsing>=2.2.1 in /usr/local/lib/python3.8/dist-packages (from matplotlib) (3.0.9)\n",
            "Requirement already satisfied: kiwisolver>=1.0.1 in /usr/local/lib/python3.8/dist-packages (from matplotlib) (1.4.4)\n",
            "Requirement already satisfied: cycler>=0.10 in /usr/local/lib/python3.8/dist-packages (from matplotlib) (0.11.0)\n",
            "Requirement already satisfied: contourpy>=1.0.1 in /usr/local/lib/python3.8/dist-packages (from matplotlib) (1.0.6)\n",
            "Requirement already satisfied: six>=1.5 in /usr/local/lib/python3.8/dist-packages (from python-dateutil>=2.7->matplotlib) (1.15.0)\n"
          ]
        }
      ]
    },
    {
      "cell_type": "code",
      "source": [
        "pip install matplotlib==3.1.1"
      ],
      "metadata": {
        "colab": {
          "base_uri": "https://localhost:8080/",
          "height": 358
        },
        "id": "tQaFU8caiVey",
        "outputId": "5544f26a-a8e9-473d-d5a0-cf9cdf224748"
      },
      "execution_count": 5,
      "outputs": [
        {
          "output_type": "stream",
          "name": "stdout",
          "text": [
            "Looking in indexes: https://pypi.org/simple, https://us-python.pkg.dev/colab-wheels/public/simple/\n",
            "Collecting matplotlib==3.1.1\n",
            "  Using cached matplotlib-3.1.1-cp38-cp38-linux_x86_64.whl\n",
            "Requirement already satisfied: kiwisolver>=1.0.1 in /usr/local/lib/python3.8/dist-packages (from matplotlib==3.1.1) (1.4.4)\n",
            "Requirement already satisfied: cycler>=0.10 in /usr/local/lib/python3.8/dist-packages (from matplotlib==3.1.1) (0.11.0)\n",
            "Requirement already satisfied: pyparsing!=2.0.4,!=2.1.2,!=2.1.6,>=2.0.1 in /usr/local/lib/python3.8/dist-packages (from matplotlib==3.1.1) (3.0.9)\n",
            "Requirement already satisfied: numpy>=1.11 in /usr/local/lib/python3.8/dist-packages (from matplotlib==3.1.1) (1.21.6)\n",
            "Requirement already satisfied: python-dateutil>=2.1 in /usr/local/lib/python3.8/dist-packages (from matplotlib==3.1.1) (2.8.2)\n",
            "Requirement already satisfied: six>=1.5 in /usr/local/lib/python3.8/dist-packages (from python-dateutil>=2.1->matplotlib==3.1.1) (1.15.0)\n",
            "Installing collected packages: matplotlib\n",
            "  Attempting uninstall: matplotlib\n",
            "    Found existing installation: matplotlib 3.6.2\n",
            "    Uninstalling matplotlib-3.6.2:\n",
            "      Successfully uninstalled matplotlib-3.6.2\n",
            "Successfully installed matplotlib-3.1.1\n"
          ]
        },
        {
          "output_type": "display_data",
          "data": {
            "application/vnd.colab-display-data+json": {
              "pip_warning": {
                "packages": [
                  "matplotlib",
                  "mpl_toolkits"
                ]
              }
            }
          },
          "metadata": {}
        }
      ]
    },
    {
      "cell_type": "code",
      "source": [
        "dates = [date(2022, 11, 7), date(2022, 11, 14), date(2022,11,21), \n",
        "         date(2022,11,28), date(2022,12,5), date(2022, 12, 12), date(2022,12,19), date(2022, 12, 25)]\n",
        "min_date = date(np.min(dates).year, np.min(dates).month, np.min(dates).day-5)\n",
        "max_date = date(np.max(dates).year, np.max(dates).month, np.max(dates).day+5)\n",
        " \n",
        "labels = ['Week 0: Pre-Strike', 'Week 1: Strike Starts', 'Week 2: Strike', 'Week 3: Students Express Opinions', \n",
        "          'Week 4: Strikes Become\\nDisruptive to Students\\nDuring Finals', 'Week 5: Winter Break Starts', 'Week 6: UCs reach\\ntentative agreement', \n",
        "          'Strike Ends']\n",
        "# labels with associated dates\n",
        "labels = ['{0:%d %b %Y}:\\n{1}'.format(d, l) for l, d in zip (labels, dates)]\n",
        "\n",
        "\n",
        "fig, ax = plt.subplots(figsize=(15, 4), constrained_layout=True)\n",
        "_ = ax.set_ylim(-2, 1.75)\n",
        "_ = ax.set_xlim(min_date, max_date)\n",
        "_ = ax.axhline(0, xmin=0.05, xmax=0.95, c='purple', zorder=1)\n",
        " \n",
        "_ = ax.scatter(dates, np.zeros(len(dates)), s=120, c='yellow', zorder=2)\n",
        "_ = ax.scatter(dates, np.zeros(len(dates)), s=30, c='darkblue', zorder=3)\n",
        "\n",
        "stems = np.zeros(len(dates))\n",
        "stems[::2] = 0.3\n",
        "stems[1::2] = -0.3   \n",
        "markerline, stemline, baseline = ax.stem(dates, stems, use_line_collection=True)\n",
        "_ = plt.setp(markerline, marker=',', color='darkblue')\n",
        "_ = plt.setp(stemline, color='darkblue')\n",
        "\n",
        "stems = np.zeros(len(dates))\n",
        "stems[::2] = 0.3\n",
        "stems[1::2] = -0.3   \n",
        "markerline, stemline, baseline = ax.stem(dates, stems, use_line_collection=True)\n",
        "_ = plt.setp(markerline, marker=',', color='darkblue')\n",
        "_ = plt.setp(stemline, color='darkblue')\n",
        "label_offsets = np.zeros(len(dates))\n",
        "label_offsets[::2] = 0.35\n",
        "label_offsets[1::2] = -0.7\n",
        "for i, (l, d) in enumerate(zip(labels, dates)):\n",
        "    _ = ax.text(d, label_offsets[i], l, ha='center', fontfamily='serif', fontweight='bold', color='royalblue',fontsize=12)"
      ],
      "metadata": {
        "colab": {
          "base_uri": "https://localhost:8080/",
          "height": 313
        },
        "id": "luwYltoMqfFl",
        "outputId": "1903e4f9-6f22-43aa-f0b7-59cd55a94f68"
      },
      "execution_count": 11,
      "outputs": [
        {
          "output_type": "display_data",
          "data": {
            "text/plain": [
              "<Figure size 1080x288 with 1 Axes>"
            ],
            "image/png": "[encoded data removed]"
          },
          "metadata": {
            "needs_background": "light"
          }
        }
      ]
    },
    {
      "cell_type": "code",
      "source": [
        "import numpy as np\n",
        "import matplotlib.pyplot as plt\n",
        "from matplotlib.markers import MarkerStyle\n",
        "from matplotlib.transforms import Affine2D\n",
        "from matplotlib.textpath import TextPath\n",
        "from matplotlib.colors import Normalize\n"
      ],
      "metadata": {
        "id": "754ctKES0ycm"
      },
      "execution_count": 7,
      "outputs": []
    },
    {
      "cell_type": "code",
      "source": [
        "from matplotlib.markers import MarkerStyle\n",
        "from matplotlib.transforms import Affine2D\n",
        "from matplotlib.textpath import TextPath\n",
        "from matplotlib.colors import Normalize\n",
        "\n",
        "SUCCESS_SYMBOLS = [\n",
        "    TextPath((0, 0), \"☹\"),\n",
        "    TextPath((0, 0), \"😒\"),\n",
        "    TextPath((0, 0), \"☺\"),\n",
        "]\n",
        "\n",
        "N = 25\n",
        "np.random.seed(42)\n",
        "skills = np.random.uniform(5, 80, size=N) * 0.1 + 5\n",
        "takeoff_angles = np.random.normal(0, 90, N)\n",
        "thrusts = np.random.uniform(size=N)\n",
        "successful = np.random.randint(0, 3, size=N)\n",
        "positions = np.random.normal(size=(N, 2)) * 5\n",
        "data = zip(skills, takeoff_angles, thrusts, successful, positions)\n",
        "\n",
        "cmap = plt.colormaps[\"plasma\"]\n",
        "fig, ax = plt.subplots()\n",
        "fig.suptitle(\"Throwing success\", size=14)\n",
        "for skill, takeoff, thrust, mood, pos in data:\n",
        "    t = Affine2D().scale(skill).rotate_deg(takeoff)\n",
        "    m = MarkerStyle(SUCCESS_SYMBOLS[mood], transform=t)\n",
        "    ax.plot(pos[0], pos[1], marker=m, color=cmap(thrust))\n",
        "ax.set_xlabel(\"X position [m]\")\n",
        "ax.set_ylabel(\"Y position [m]\")\n",
        "\n",
        "plt.show()"
      ],
      "metadata": {
        "colab": {
          "base_uri": "https://localhost:8080/",
          "height": 232
        },
        "id": "mJPXPeM8CBwv",
        "outputId": "1ba98617-69e7-45dc-c049-ffeeb49cae26"
      },
      "execution_count": 8,
      "outputs": [
        {
          "output_type": "error",
          "ename": "TypeError",
          "evalue": "ignored",
          "traceback": [
            "\u001b[0;31m---------------------------------------------------------------------------\u001b[0m",
            "\u001b[0;31mTypeError\u001b[0m                                 Traceback (most recent call last)",
            "\u001b[0;32m<ipython-input-8-6e548ce55183>\u001b[0m in \u001b[0;36m<module>\u001b[0;34m\u001b[0m\n\u001b[1;32m     19\u001b[0m \u001b[0mdata\u001b[0m \u001b[0;34m=\u001b[0m \u001b[0mzip\u001b[0m\u001b[0;34m(\u001b[0m\u001b[0mskills\u001b[0m\u001b[0;34m,\u001b[0m \u001b[0mtakeoff_angles\u001b[0m\u001b[0;34m,\u001b[0m \u001b[0mthrusts\u001b[0m\u001b[0;34m,\u001b[0m \u001b[0msuccessful\u001b[0m\u001b[0;34m,\u001b[0m \u001b[0mpositions\u001b[0m\u001b[0;34m)\u001b[0m\u001b[0;34m\u001b[0m\u001b[0;34m\u001b[0m\u001b[0m\n\u001b[1;32m     20\u001b[0m \u001b[0;34m\u001b[0m\u001b[0m\n\u001b[0;32m---> 21\u001b[0;31m \u001b[0mcmap\u001b[0m \u001b[0;34m=\u001b[0m \u001b[0mplt\u001b[0m\u001b[0;34m.\u001b[0m\u001b[0mcolormaps\u001b[0m\u001b[0;34m[\u001b[0m\u001b[0;34m\"plasma\"\u001b[0m\u001b[0;34m]\u001b[0m\u001b[0;34m\u001b[0m\u001b[0;34m\u001b[0m\u001b[0m\n\u001b[0m\u001b[1;32m     22\u001b[0m \u001b[0mfig\u001b[0m\u001b[0;34m,\u001b[0m \u001b[0max\u001b[0m \u001b[0;34m=\u001b[0m \u001b[0mplt\u001b[0m\u001b[0;34m.\u001b[0m\u001b[0msubplots\u001b[0m\u001b[0;34m(\u001b[0m\u001b[0;34m)\u001b[0m\u001b[0;34m\u001b[0m\u001b[0;34m\u001b[0m\u001b[0m\n\u001b[1;32m     23\u001b[0m \u001b[0mfig\u001b[0m\u001b[0;34m.\u001b[0m\u001b[0msuptitle\u001b[0m\u001b[0;34m(\u001b[0m\u001b[0;34m\"Throwing success\"\u001b[0m\u001b[0;34m,\u001b[0m \u001b[0msize\u001b[0m\u001b[0;34m=\u001b[0m\u001b[0;36m14\u001b[0m\u001b[0;34m)\u001b[0m\u001b[0;34m\u001b[0m\u001b[0;34m\u001b[0m\u001b[0m\n",
            "\u001b[0;31mTypeError\u001b[0m: 'function' object is not subscriptable"
          ]
        }
      ]
    }
  ]
}