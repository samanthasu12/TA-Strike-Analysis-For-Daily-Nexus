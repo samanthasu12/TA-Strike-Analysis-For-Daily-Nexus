{
  "nbformat": 4,
  "nbformat_minor": 0,
  "metadata": {
    "colab": {
      "provenance": [],
      "include_colab_link": true
    },
    "kernelspec": {
      "name": "python3",
      "display_name": "Python 3"
    },
    "language_info": {
      "name": "python"
    }
  },
  "cells": [
    {
      "cell_type": "markdown",
      "metadata": {
        "id": "view-in-github",
        "colab_type": "text"
      },
      "source": [
        "<a href=\"https://colab.research.google.com/github/samanthasu12/TA-Strike-Analysis-For-Daily-Nexus/blob/main/TAStrikeAnalysisDiagrams.ipynb\" target=\"_parent\"><img src=\"https://colab.research.google.com/assets/colab-badge.svg\" alt=\"Open In Colab\"/></a>"
      ]
    },
    {
      "cell_type": "code",
      "execution_count": 1,
      "metadata": {
        "id": "w41eErZ2yCAH",
        "colab": {
          "base_uri": "https://localhost:8080/",
          "height": 647
        },
        "outputId": "5a88de1e-8f74-4f94-9879-d81102d59df3"
      },
      "outputs": [
        {
          "output_type": "stream",
          "name": "stdout",
          "text": [
            "Looking in indexes: https://pypi.org/simple, https://us-python.pkg.dev/colab-wheels/public/simple/\n",
            "Requirement already satisfied: matplotlib in /usr/local/lib/python3.8/dist-packages (3.1.3)\n",
            "Collecting matplotlib\n",
            "  Using cached matplotlib-3.6.3-cp38-cp38-manylinux_2_12_x86_64.manylinux2010_x86_64.whl (9.4 MB)\n",
            "Requirement already satisfied: kiwisolver>=1.0.1 in /usr/local/lib/python3.8/dist-packages (from matplotlib) (1.4.4)\n",
            "Requirement already satisfied: pyparsing>=2.2.1 in /usr/local/lib/python3.8/dist-packages (from matplotlib) (3.0.9)\n",
            "Requirement already satisfied: python-dateutil>=2.7 in /usr/local/lib/python3.8/dist-packages (from matplotlib) (2.8.2)\n",
            "Requirement already satisfied: pillow>=6.2.0 in /usr/local/lib/python3.8/dist-packages (from matplotlib) (7.1.2)\n",
            "Requirement already satisfied: packaging>=20.0 in /usr/local/lib/python3.8/dist-packages (from matplotlib) (21.3)\n",
            "Requirement already satisfied: numpy>=1.19 in /usr/local/lib/python3.8/dist-packages (from matplotlib) (1.21.6)\n",
            "Requirement already satisfied: contourpy>=1.0.1 in /usr/local/lib/python3.8/dist-packages (from matplotlib) (1.0.7)\n",
            "Requirement already satisfied: cycler>=0.10 in /usr/local/lib/python3.8/dist-packages (from matplotlib) (0.11.0)\n",
            "Requirement already satisfied: fonttools>=4.22.0 in /usr/local/lib/python3.8/dist-packages (from matplotlib) (4.38.0)\n",
            "Requirement already satisfied: six>=1.5 in /usr/local/lib/python3.8/dist-packages (from python-dateutil>=2.7->matplotlib) (1.15.0)\n",
            "Installing collected packages: matplotlib\n",
            "  Attempting uninstall: matplotlib\n",
            "    Found existing installation: matplotlib 3.1.3\n",
            "    Uninstalling matplotlib-3.1.3:\n",
            "      Successfully uninstalled matplotlib-3.1.3\n",
            "Successfully installed matplotlib-3.6.3\n"
          ]
        },
        {
          "output_type": "display_data",
          "data": {
            "application/vnd.colab-display-data+json": {
              "pip_warning": {
                "packages": [
                  "matplotlib",
                  "mpl_toolkits"
                ]
              }
            }
          },
          "metadata": {}
        },
        {
          "output_type": "stream",
          "name": "stdout",
          "text": [
            "Looking in indexes: https://pypi.org/simple, https://us-python.pkg.dev/colab-wheels/public/simple/\n",
            "Requirement already satisfied: matplotlib in /usr/local/lib/python3.8/dist-packages (3.6.3)\n",
            "Requirement already satisfied: fonttools>=4.22.0 in /usr/local/lib/python3.8/dist-packages (from matplotlib) (4.38.0)\n",
            "Requirement already satisfied: numpy>=1.19 in /usr/local/lib/python3.8/dist-packages (from matplotlib) (1.21.6)\n",
            "Requirement already satisfied: pillow>=6.2.0 in /usr/local/lib/python3.8/dist-packages (from matplotlib) (7.1.2)\n",
            "Requirement already satisfied: python-dateutil>=2.7 in /usr/local/lib/python3.8/dist-packages (from matplotlib) (2.8.2)\n",
            "Requirement already satisfied: packaging>=20.0 in /usr/local/lib/python3.8/dist-packages (from matplotlib) (21.3)\n",
            "Requirement already satisfied: cycler>=0.10 in /usr/local/lib/python3.8/dist-packages (from matplotlib) (0.11.0)\n",
            "Requirement already satisfied: pyparsing>=2.2.1 in /usr/local/lib/python3.8/dist-packages (from matplotlib) (3.0.9)\n",
            "Requirement already satisfied: kiwisolver>=1.0.1 in /usr/local/lib/python3.8/dist-packages (from matplotlib) (1.4.4)\n",
            "Requirement already satisfied: contourpy>=1.0.1 in /usr/local/lib/python3.8/dist-packages (from matplotlib) (1.0.7)\n",
            "Requirement already satisfied: six>=1.5 in /usr/local/lib/python3.8/dist-packages (from python-dateutil>=2.7->matplotlib) (1.15.0)\n"
          ]
        }
      ],
      "source": [
        "import numpy as np\n",
        "import pandas as pd\n",
        "import altair as alt\n",
        "from datetime import date\n",
        "import matplotlib.pyplot as plt\n",
        "import numpy as np\n",
        "!pip install matplotlib --upgrade\n",
        "!pip install -U matplotlib\n",
        " \n",
        "%matplotlib inline "
      ]
    },
    {
      "cell_type": "code",
      "source": [
        "pip install matplotlib==3.1.3"
      ],
      "metadata": {
        "colab": {
          "base_uri": "https://localhost:8080/",
          "height": 358
        },
        "id": "PJdNDMhfo-JQ",
        "outputId": "493c29e0-e966-45c2-c2c9-ae294fe0b9a3"
      },
      "execution_count": 2,
      "outputs": [
        {
          "output_type": "stream",
          "name": "stdout",
          "text": [
            "Looking in indexes: https://pypi.org/simple, https://us-python.pkg.dev/colab-wheels/public/simple/\n",
            "Collecting matplotlib==3.1.3\n",
            "  Using cached matplotlib-3.1.3-cp38-cp38-manylinux1_x86_64.whl (13.1 MB)\n",
            "Requirement already satisfied: numpy>=1.11 in /usr/local/lib/python3.8/dist-packages (from matplotlib==3.1.3) (1.21.6)\n",
            "Requirement already satisfied: cycler>=0.10 in /usr/local/lib/python3.8/dist-packages (from matplotlib==3.1.3) (0.11.0)\n",
            "Requirement already satisfied: pyparsing!=2.0.4,!=2.1.2,!=2.1.6,>=2.0.1 in /usr/local/lib/python3.8/dist-packages (from matplotlib==3.1.3) (3.0.9)\n",
            "Requirement already satisfied: python-dateutil>=2.1 in /usr/local/lib/python3.8/dist-packages (from matplotlib==3.1.3) (2.8.2)\n",
            "Requirement already satisfied: kiwisolver>=1.0.1 in /usr/local/lib/python3.8/dist-packages (from matplotlib==3.1.3) (1.4.4)\n",
            "Requirement already satisfied: six>=1.5 in /usr/local/lib/python3.8/dist-packages (from python-dateutil>=2.1->matplotlib==3.1.3) (1.15.0)\n",
            "Installing collected packages: matplotlib\n",
            "  Attempting uninstall: matplotlib\n",
            "    Found existing installation: matplotlib 3.6.3\n",
            "    Uninstalling matplotlib-3.6.3:\n",
            "      Successfully uninstalled matplotlib-3.6.3\n",
            "Successfully installed matplotlib-3.1.3\n"
          ]
        },
        {
          "output_type": "display_data",
          "data": {
            "application/vnd.colab-display-data+json": {
              "pip_warning": {
                "packages": [
                  "matplotlib",
                  "mpl_toolkits"
                ]
              }
            }
          },
          "metadata": {}
        }
      ]
    },
    {
      "cell_type": "code",
      "source": [
        "#Reddit sample sizes per week\n",
        "\n",
        "fig = plt.figure()\n",
        "ax = fig.add_axes([0,0,1,1])\n",
        "weeks = ['Week 0', 'Week 1', 'Week 2', 'Week 3', 'Week 4', 'Week 5', 'Week 6']\n",
        "number_of_posts = [10, 223, 57, 128, 375, 41, 42]\n",
        "ax.bar(weeks,number_of_posts, color=[0.2, 0.4, 0.6, 0.6])\n",
        "ax.set_ylabel('Number of Posts+Comments')\n",
        "ax.set_title(\"Number of Posts+Comments Related to the Strike on Reddit For Each Week\")\n",
        "plt.show()\n"
      ],
      "metadata": {
        "colab": {
          "base_uri": "https://localhost:8080/",
          "height": 352
        },
        "id": "j3kgi8EUn25t",
        "outputId": "75346dd6-c16e-4cd6-c700-3e8cb6d6abfb"
      },
      "execution_count": 4,
      "outputs": [
        {
          "output_type": "display_data",
          "data": {
            "text/plain": [
              "<Figure size 432x288 with 1 Axes>"
            ],
            "image/png": "[encoded data removed]"
          },
          "metadata": {
            "needs_background": "light"
          }
        }
      ]
    },
    {
      "cell_type": "code",
      "source": [
        "#Waiting for twitter and discord people to input their data\n",
        "#Graphs don't show up on github so to view click on this https://colab.research.google.com/drive/1vJ1dSbJ33pi2qg5EMpTF-yFEQnKLu2Mq?usp=sharing to view\n",
        "\n",
        "df1=pd.DataFrame(np.array([[20.7, 2, 40], [21.2, 5, 33.6], [15.8, 8, 31.5], [17.2,2,43.9],[24.1,3,45.6],[41.2,4,25.6], [29.8,2,22.2]]),index=[\"Week0\", \"Week1\",\"Week2\",\"Week3\",\"Week4\", \"Week5\", \"Week6\"],columns=[\"Discord\",\"Twitter\",\"Reddit\"])\n",
        "df2=pd.DataFrame(np.array([[59.9, 2, 0], [65.3, 5, 15.4], [65.8, 8, 20.4], [58.4,2,18.7],[66.9,3,19.1],[46.1,4,46.2], [67.9,2,47.2]]),index=[\"Week0\", \"Week1\",\"Week2\",\"Week3\",\"Week4\", \"Week5\", \"Week6\"],columns=[\"Discord\",\"Twitter\",\"Reddit\"])\n",
        "df3=pd.DataFrame(np.array([[19.4, 2, 60], [13.5, 5, 50.9], [18.3, 8, 48.1], [24.4,2,37.4],[9.1,3,35.2],[12.7,4,28.2], [2.2,2,30.6]]),index=[\"Week0\", \"Week1\",\"Week2\",\"Week3\",\"Week4\", \"Week5\", \"Week6\"],columns=[\"Discord\",\"Twitter\",\"Reddit\"])\n",
        "def prep_df(df, name):\n",
        "    df = df.stack().reset_index()\n",
        "    df.columns = ['c1', 'c2', 'values']\n",
        "    df['DF'] = name\n",
        "    return df\n",
        "df1 = prep_df(df1, 'Negative')\n",
        "df2 = prep_df(df2, 'Neutral')\n",
        "df3 = prep_df(df3, 'Positive')\n",
        "\n",
        "df = pd.concat([df1, df2, df3])"
      ],
      "metadata": {
        "id": "jM7Rc0JxVtA3"
      },
      "execution_count": 27,
      "outputs": []
    },
    {
      "cell_type": "code",
      "source": [
        "df"
      ],
      "metadata": {
        "colab": {
          "base_uri": "https://localhost:8080/",
          "height": 419
        },
        "id": "0yaaM3a0TijS",
        "outputId": "2700f54d-1ebd-4383-d14b-39e8489e9fec"
      },
      "execution_count": 19,
      "outputs": [
        {
          "output_type": "execute_result",
          "data": {
            "text/plain": [
              "       c1       c2  values        DF\n",
              "0   Week0  Discord    20.7  Negative\n",
              "1   Week0  Twitter     2.0  Negative\n",
              "2   Week0   Reddit    40.0  Negative\n",
              "3   Week1  Discord    21.2  Negative\n",
              "4   Week1  Twitter     5.0  Negative\n",
              "..    ...      ...     ...       ...\n",
              "16  Week5  Twitter     4.0  Positive\n",
              "17  Week5   Reddit    10.3  Positive\n",
              "18  Week6  Discord     2.2  Positive\n",
              "19  Week6  Twitter     2.0  Positive\n",
              "20  Week6   Reddit     9.9  Positive\n",
              "\n",
              "[63 rows x 4 columns]"
            ],
            "text/html": [
              "\n",
              "  <div id=\"df-fc1f16c8-5b6e-45de-bc5f-a14553f71ccd\">\n",
              "    <div class=\"colab-df-container\">\n",
              "      <div>\n",
              "<style scoped>\n",
              "    .dataframe tbody tr th:only-of-type {\n",
              "        vertical-align: middle;\n",
              "    }\n",
              "\n",
              "    .dataframe tbody tr th {\n",
              "        vertical-align: top;\n",
              "    }\n",
              "\n",
              "    .dataframe thead th {\n",
              "        text-align: right;\n",
              "    }\n",
              "</style>\n",
              "<table border=\"1\" class=\"dataframe\">\n",
              "  <thead>\n",
              "    <tr style=\"text-align: right;\">\n",
              "      <th></th>\n",
              "      <th>c1</th>\n",
              "      <th>c2</th>\n",
              "      <th>values</th>\n",
              "      <th>DF</th>\n",
              "    </tr>\n",
              "  </thead>\n",
              "  <tbody>\n",
              "    <tr>\n",
              "      <th>0</th>\n",
              "      <td>Week0</td>\n",
              "      <td>Discord</td>\n",
              "      <td>20.7</td>\n",
              "      <td>Negative</td>\n",
              "    </tr>\n",
              "    <tr>\n",
              "      <th>1</th>\n",
              "      <td>Week0</td>\n",
              "      <td>Twitter</td>\n",
              "      <td>2.0</td>\n",
              "      <td>Negative</td>\n",
              "    </tr>\n",
              "    <tr>\n",
              "      <th>2</th>\n",
              "      <td>Week0</td>\n",
              "      <td>Reddit</td>\n",
              "      <td>40.0</td>\n",
              "      <td>Negative</td>\n",
              "    </tr>\n",
              "    <tr>\n",
              "      <th>3</th>\n",
              "      <td>Week1</td>\n",
              "      <td>Discord</td>\n",
              "      <td>21.2</td>\n",
              "      <td>Negative</td>\n",
              "    </tr>\n",
              "    <tr>\n",
              "      <th>4</th>\n",
              "      <td>Week1</td>\n",
              "      <td>Twitter</td>\n",
              "      <td>5.0</td>\n",
              "      <td>Negative</td>\n",
              "    </tr>\n",
              "    <tr>\n",
              "      <th>...</th>\n",
              "      <td>...</td>\n",
              "      <td>...</td>\n",
              "      <td>...</td>\n",
              "      <td>...</td>\n",
              "    </tr>\n",
              "    <tr>\n",
              "      <th>16</th>\n",
              "      <td>Week5</td>\n",
              "      <td>Twitter</td>\n",
              "      <td>4.0</td>\n",
              "      <td>Positive</td>\n",
              "    </tr>\n",
              "    <tr>\n",
              "      <th>17</th>\n",
              "      <td>Week5</td>\n",
              "      <td>Reddit</td>\n",
              "      <td>10.3</td>\n",
              "      <td>Positive</td>\n",
              "    </tr>\n",
              "    <tr>\n",
              "      <th>18</th>\n",
              "      <td>Week6</td>\n",
              "      <td>Discord</td>\n",
              "      <td>2.2</td>\n",
              "      <td>Positive</td>\n",
              "    </tr>\n",
              "    <tr>\n",
              "      <th>19</th>\n",
              "      <td>Week6</td>\n",
              "      <td>Twitter</td>\n",
              "      <td>2.0</td>\n",
              "      <td>Positive</td>\n",
              "    </tr>\n",
              "    <tr>\n",
              "      <th>20</th>\n",
              "      <td>Week6</td>\n",
              "      <td>Reddit</td>\n",
              "      <td>9.9</td>\n",
              "      <td>Positive</td>\n",
              "    </tr>\n",
              "  </tbody>\n",
              "</table>\n",
              "<p>63 rows × 4 columns</p>\n",
              "</div>\n",
              "      <button class=\"colab-df-convert\" onclick=\"convertToInteractive('df-fc1f16c8-5b6e-45de-bc5f-a14553f71ccd')\"\n",
              "              title=\"Convert this dataframe to an interactive table.\"\n",
              "              style=\"display:none;\">\n",
              "        \n",
              "  <svg xmlns=\"http://www.w3.org/2000/svg\" height=\"24px\"viewBox=\"0 0 24 24\"\n",
              "       width=\"24px\">\n",
              "    <path d=\"M0 0h24v24H0V0z\" fill=\"none\"/>\n",
              "    <path d=\"M18.56 5.44l.94 2.06.94-2.06 2.06-.94-2.06-.94-.94-2.06-.94 2.06-2.06.94zm-11 1L8.5 8.5l.94-2.06 2.06-.94-2.06-.94L8.5 2.5l-.94 2.06-2.06.94zm10 10l.94 2.06.94-2.06 2.06-.94-2.06-.94-.94-2.06-.94 2.06-2.06.94z\"/><path d=\"M17.41 7.96l-1.37-1.37c-.4-.4-.92-.59-1.43-.59-.52 0-1.04.2-1.43.59L10.3 9.45l-7.72 7.72c-.78.78-.78 2.05 0 2.83L4 21.41c.39.39.9.59 1.41.59.51 0 1.02-.2 1.41-.59l7.78-7.78 2.81-2.81c.8-.78.8-2.07 0-2.86zM5.41 20L4 18.59l7.72-7.72 1.47 1.35L5.41 20z\"/>\n",
              "  </svg>\n",
              "      </button>\n",
              "      \n",
              "  <style>\n",
              "    .colab-df-container {\n",
              "      display:flex;\n",
              "      flex-wrap:wrap;\n",
              "      gap: 12px;\n",
              "    }\n",
              "\n",
              "    .colab-df-convert {\n",
              "      background-color: #E8F0FE;\n",
              "      border: none;\n",
              "      border-radius: 50%;\n",
              "      cursor: pointer;\n",
              "      display: none;\n",
              "      fill: #1967D2;\n",
              "      height: 32px;\n",
              "      padding: 0 0 0 0;\n",
              "      width: 32px;\n",
              "    }\n",
              "\n",
              "    .colab-df-convert:hover {\n",
              "      background-color: #E2EBFA;\n",
              "      box-shadow: 0px 1px 2px rgba(60, 64, 67, 0.3), 0px 1px 3px 1px rgba(60, 64, 67, 0.15);\n",
              "      fill: #174EA6;\n",
              "    }\n",
              "\n",
              "    [theme=dark] .colab-df-convert {\n",
              "      background-color: #3B4455;\n",
              "      fill: #D2E3FC;\n",
              "    }\n",
              "\n",
              "    [theme=dark] .colab-df-convert:hover {\n",
              "      background-color: #434B5C;\n",
              "      box-shadow: 0px 1px 3px 1px rgba(0, 0, 0, 0.15);\n",
              "      filter: drop-shadow(0px 1px 2px rgba(0, 0, 0, 0.3));\n",
              "      fill: #FFFFFF;\n",
              "    }\n",
              "  </style>\n",
              "\n",
              "      <script>\n",
              "        const buttonEl =\n",
              "          document.querySelector('#df-fc1f16c8-5b6e-45de-bc5f-a14553f71ccd button.colab-df-convert');\n",
              "        buttonEl.style.display =\n",
              "          google.colab.kernel.accessAllowed ? 'block' : 'none';\n",
              "\n",
              "        async function convertToInteractive(key) {\n",
              "          const element = document.querySelector('#df-fc1f16c8-5b6e-45de-bc5f-a14553f71ccd');\n",
              "          const dataTable =\n",
              "            await google.colab.kernel.invokeFunction('convertToInteractive',\n",
              "                                                     [key], {});\n",
              "          if (!dataTable) return;\n",
              "\n",
              "          const docLinkHtml = 'Like what you see? Visit the ' +\n",
              "            '<a target=\"_blank\" href=https://colab.research.google.com/notebooks/data_table.ipynb>data table notebook</a>'\n",
              "            + ' to learn more about interactive tables.';\n",
              "          element.innerHTML = '';\n",
              "          dataTable['output_type'] = 'display_data';\n",
              "          await google.colab.output.renderOutput(dataTable, element);\n",
              "          const docLink = document.createElement('div');\n",
              "          docLink.innerHTML = docLinkHtml;\n",
              "          element.appendChild(docLink);\n",
              "        }\n",
              "      </script>\n",
              "    </div>\n",
              "  </div>\n",
              "  "
            ]
          },
          "metadata": {},
          "execution_count": 19
        }
      ]
    },
    {
      "cell_type": "code",
      "source": [
        "alt.Chart(df).mark_bar().encode(\n",
        "\n",
        "    x=alt.X('c2:N', title=None),\n",
        "\n",
        "    y=alt.Y('sum(values):Q',\n",
        "        axis=alt.Axis(\n",
        "            grid=False,\n",
        "            title=None)),\n",
        "\n",
        "    column=alt.Column('c1:N', title=\"Percent Analysis of Responses to the TA Strike from Discord, Reddit, and Twitter\"),\n",
        "\n",
        "    color=alt.Color('DF:N',\n",
        "            scale=alt.Scale(\n",
        "                range=['#ff6f69', '#ffcc5c','#96ceb4'],\n",
        "            ),\n",
        "        ))\\\n",
        "    .configure_view(\n",
        "        strokeOpacity=0    \n",
        "    )"
      ],
      "metadata": {
        "colab": {
          "base_uri": "https://localhost:8080/",
          "height": 423
        },
        "id": "7rUqY6j9Yj5m",
        "outputId": "51c4007b-c680-4fcb-c1fd-68871ddb532d"
      },
      "execution_count": 28,
      "outputs": [
        {
          "output_type": "execute_result",
          "data": {
            "text/html": [
              "\n",
              "<div id=\"altair-viz-cef27d7effcb44a38a0d53f6a96b157c\"></div>\n",
              "<script type=\"text/javascript\">\n",
              "  var VEGA_DEBUG = (typeof VEGA_DEBUG == \"undefined\") ? {} : VEGA_DEBUG;\n",
              "  (function(spec, embedOpt){\n",
              "    let outputDiv = document.currentScript.previousElementSibling;\n",
              "    if (outputDiv.id !== \"altair-viz-cef27d7effcb44a38a0d53f6a96b157c\") {\n",
              "      outputDiv = document.getElementById(\"altair-viz-cef27d7effcb44a38a0d53f6a96b157c\");\n",
              "    }\n",
              "    const paths = {\n",
              "      \"vega\": \"https://cdn.jsdelivr.net/npm//vega@5?noext\",\n",
              "      \"vega-lib\": \"https://cdn.jsdelivr.net/npm//vega-lib?noext\",\n",
              "      \"vega-lite\": \"https://cdn.jsdelivr.net/npm//vega-lite@4.17.0?noext\",\n",
              "      \"vega-embed\": \"https://cdn.jsdelivr.net/npm//vega-embed@6?noext\",\n",
              "    };\n",
              "\n",
              "    function maybeLoadScript(lib, version) {\n",
              "      var key = `${lib.replace(\"-\", \"\")}_version`;\n",
              "      return (VEGA_DEBUG[key] == version) ?\n",
              "        Promise.resolve(paths[lib]) :\n",
              "        new Promise(function(resolve, reject) {\n",
              "          var s = document.createElement('script');\n",
              "          document.getElementsByTagName(\"head\")[0].appendChild(s);\n",
              "          s.async = true;\n",
              "          s.onload = () => {\n",
              "            VEGA_DEBUG[key] = version;\n",
              "            return resolve(paths[lib]);\n",
              "          };\n",
              "          s.onerror = () => reject(`Error loading script: ${paths[lib]}`);\n",
              "          s.src = paths[lib];\n",
              "        });\n",
              "    }\n",
              "\n",
              "    function showError(err) {\n",
              "      outputDiv.innerHTML = `<div class=\"error\" style=\"color:red;\">${err}</div>`;\n",
              "      throw err;\n",
              "    }\n",
              "\n",
              "    function displayChart(vegaEmbed) {\n",
              "      vegaEmbed(outputDiv, spec, embedOpt)\n",
              "        .catch(err => showError(`Javascript Error: ${err.message}<br>This usually means there's a typo in your chart specification. See the javascript console for the full traceback.`));\n",
              "    }\n",
              "\n",
              "    if(typeof define === \"function\" && define.amd) {\n",
              "      requirejs.config({paths});\n",
              "      require([\"vega-embed\"], displayChart, err => showError(`Error loading script: ${err.message}`));\n",
              "    } else {\n",
              "      maybeLoadScript(\"vega\", \"5\")\n",
              "        .then(() => maybeLoadScript(\"vega-lite\", \"4.17.0\"))\n",
              "        .then(() => maybeLoadScript(\"vega-embed\", \"6\"))\n",
              "        .catch(showError)\n",
              "        .then(() => displayChart(vegaEmbed));\n",
              "    }\n",
              "  })({\"config\": {\"view\": {\"continuousWidth\": 400, \"continuousHeight\": 300, \"strokeOpacity\": 0}}, \"data\": {\"name\": \"data-b703442f2c371839064ec6f52255bf1d\"}, \"mark\": \"bar\", \"encoding\": {\"color\": {\"field\": \"DF\", \"scale\": {\"range\": [\"#ff6f69\", \"#ffcc5c\", \"#96ceb4\"]}, \"type\": \"nominal\"}, \"column\": {\"field\": \"c1\", \"title\": \"Percent Analysis of Responses to the TA Strike from Discord, Reddit, and Twitter\", \"type\": \"nominal\"}, \"x\": {\"field\": \"c2\", \"title\": null, \"type\": \"nominal\"}, \"y\": {\"aggregate\": \"sum\", \"axis\": {\"grid\": false, \"title\": null}, \"field\": \"values\", \"type\": \"quantitative\"}}, \"$schema\": \"https://vega.github.io/schema/vega-lite/v4.17.0.json\", \"datasets\": {\"data-b703442f2c371839064ec6f52255bf1d\": [{\"c1\": \"Week0\", \"c2\": \"Discord\", \"values\": 20.7, \"DF\": \"Negative\"}, {\"c1\": \"Week0\", \"c2\": \"Twitter\", \"values\": 2.0, \"DF\": \"Negative\"}, {\"c1\": \"Week0\", \"c2\": \"Reddit\", \"values\": 40.0, \"DF\": \"Negative\"}, {\"c1\": \"Week1\", \"c2\": \"Discord\", \"values\": 21.2, \"DF\": \"Negative\"}, {\"c1\": \"Week1\", \"c2\": \"Twitter\", \"values\": 5.0, \"DF\": \"Negative\"}, {\"c1\": \"Week1\", \"c2\": \"Reddit\", \"values\": 33.6, \"DF\": \"Negative\"}, {\"c1\": \"Week2\", \"c2\": \"Discord\", \"values\": 15.8, \"DF\": \"Negative\"}, {\"c1\": \"Week2\", \"c2\": \"Twitter\", \"values\": 8.0, \"DF\": \"Negative\"}, {\"c1\": \"Week2\", \"c2\": \"Reddit\", \"values\": 31.5, \"DF\": \"Negative\"}, {\"c1\": \"Week3\", \"c2\": \"Discord\", \"values\": 17.2, \"DF\": \"Negative\"}, {\"c1\": \"Week3\", \"c2\": \"Twitter\", \"values\": 2.0, \"DF\": \"Negative\"}, {\"c1\": \"Week3\", \"c2\": \"Reddit\", \"values\": 43.9, \"DF\": \"Negative\"}, {\"c1\": \"Week4\", \"c2\": \"Discord\", \"values\": 24.1, \"DF\": \"Negative\"}, {\"c1\": \"Week4\", \"c2\": \"Twitter\", \"values\": 3.0, \"DF\": \"Negative\"}, {\"c1\": \"Week4\", \"c2\": \"Reddit\", \"values\": 45.6, \"DF\": \"Negative\"}, {\"c1\": \"Week5\", \"c2\": \"Discord\", \"values\": 41.2, \"DF\": \"Negative\"}, {\"c1\": \"Week5\", \"c2\": \"Twitter\", \"values\": 4.0, \"DF\": \"Negative\"}, {\"c1\": \"Week5\", \"c2\": \"Reddit\", \"values\": 25.6, \"DF\": \"Negative\"}, {\"c1\": \"Week6\", \"c2\": \"Discord\", \"values\": 29.8, \"DF\": \"Negative\"}, {\"c1\": \"Week6\", \"c2\": \"Twitter\", \"values\": 2.0, \"DF\": \"Negative\"}, {\"c1\": \"Week6\", \"c2\": \"Reddit\", \"values\": 22.2, \"DF\": \"Negative\"}, {\"c1\": \"Week0\", \"c2\": \"Discord\", \"values\": 59.9, \"DF\": \"Neutral\"}, {\"c1\": \"Week0\", \"c2\": \"Twitter\", \"values\": 2.0, \"DF\": \"Neutral\"}, {\"c1\": \"Week0\", \"c2\": \"Reddit\", \"values\": 0.0, \"DF\": \"Neutral\"}, {\"c1\": \"Week1\", \"c2\": \"Discord\", \"values\": 65.3, \"DF\": \"Neutral\"}, {\"c1\": \"Week1\", \"c2\": \"Twitter\", \"values\": 5.0, \"DF\": \"Neutral\"}, {\"c1\": \"Week1\", \"c2\": \"Reddit\", \"values\": 15.4, \"DF\": \"Neutral\"}, {\"c1\": \"Week2\", \"c2\": \"Discord\", \"values\": 65.8, \"DF\": \"Neutral\"}, {\"c1\": \"Week2\", \"c2\": \"Twitter\", \"values\": 8.0, \"DF\": \"Neutral\"}, {\"c1\": \"Week2\", \"c2\": \"Reddit\", \"values\": 20.4, \"DF\": \"Neutral\"}, {\"c1\": \"Week3\", \"c2\": \"Discord\", \"values\": 58.4, \"DF\": \"Neutral\"}, {\"c1\": \"Week3\", \"c2\": \"Twitter\", \"values\": 2.0, \"DF\": \"Neutral\"}, {\"c1\": \"Week3\", \"c2\": \"Reddit\", \"values\": 18.7, \"DF\": \"Neutral\"}, {\"c1\": \"Week4\", \"c2\": \"Discord\", \"values\": 66.9, \"DF\": \"Neutral\"}, {\"c1\": \"Week4\", \"c2\": \"Twitter\", \"values\": 3.0, \"DF\": \"Neutral\"}, {\"c1\": \"Week4\", \"c2\": \"Reddit\", \"values\": 19.1, \"DF\": \"Neutral\"}, {\"c1\": \"Week5\", \"c2\": \"Discord\", \"values\": 46.1, \"DF\": \"Neutral\"}, {\"c1\": \"Week5\", \"c2\": \"Twitter\", \"values\": 4.0, \"DF\": \"Neutral\"}, {\"c1\": \"Week5\", \"c2\": \"Reddit\", \"values\": 46.2, \"DF\": \"Neutral\"}, {\"c1\": \"Week6\", \"c2\": \"Discord\", \"values\": 67.9, \"DF\": \"Neutral\"}, {\"c1\": \"Week6\", \"c2\": \"Twitter\", \"values\": 2.0, \"DF\": \"Neutral\"}, {\"c1\": \"Week6\", \"c2\": \"Reddit\", \"values\": 47.2, \"DF\": \"Neutral\"}, {\"c1\": \"Week0\", \"c2\": \"Discord\", \"values\": 19.4, \"DF\": \"Positive\"}, {\"c1\": \"Week0\", \"c2\": \"Twitter\", \"values\": 2.0, \"DF\": \"Positive\"}, {\"c1\": \"Week0\", \"c2\": \"Reddit\", \"values\": 60.0, \"DF\": \"Positive\"}, {\"c1\": \"Week1\", \"c2\": \"Discord\", \"values\": 13.5, \"DF\": \"Positive\"}, {\"c1\": \"Week1\", \"c2\": \"Twitter\", \"values\": 5.0, \"DF\": \"Positive\"}, {\"c1\": \"Week1\", \"c2\": \"Reddit\", \"values\": 50.9, \"DF\": \"Positive\"}, {\"c1\": \"Week2\", \"c2\": \"Discord\", \"values\": 18.3, \"DF\": \"Positive\"}, {\"c1\": \"Week2\", \"c2\": \"Twitter\", \"values\": 8.0, \"DF\": \"Positive\"}, {\"c1\": \"Week2\", \"c2\": \"Reddit\", \"values\": 48.1, \"DF\": \"Positive\"}, {\"c1\": \"Week3\", \"c2\": \"Discord\", \"values\": 24.4, \"DF\": \"Positive\"}, {\"c1\": \"Week3\", \"c2\": \"Twitter\", \"values\": 2.0, \"DF\": \"Positive\"}, {\"c1\": \"Week3\", \"c2\": \"Reddit\", \"values\": 37.4, \"DF\": \"Positive\"}, {\"c1\": \"Week4\", \"c2\": \"Discord\", \"values\": 9.1, \"DF\": \"Positive\"}, {\"c1\": \"Week4\", \"c2\": \"Twitter\", \"values\": 3.0, \"DF\": \"Positive\"}, {\"c1\": \"Week4\", \"c2\": \"Reddit\", \"values\": 35.2, \"DF\": \"Positive\"}, {\"c1\": \"Week5\", \"c2\": \"Discord\", \"values\": 12.7, \"DF\": \"Positive\"}, {\"c1\": \"Week5\", \"c2\": \"Twitter\", \"values\": 4.0, \"DF\": \"Positive\"}, {\"c1\": \"Week5\", \"c2\": \"Reddit\", \"values\": 28.2, \"DF\": \"Positive\"}, {\"c1\": \"Week6\", \"c2\": \"Discord\", \"values\": 2.2, \"DF\": \"Positive\"}, {\"c1\": \"Week6\", \"c2\": \"Twitter\", \"values\": 2.0, \"DF\": \"Positive\"}, {\"c1\": \"Week6\", \"c2\": \"Reddit\", \"values\": 30.6, \"DF\": \"Positive\"}]}}, {\"mode\": \"vega-lite\"});\n",
              "</script>"
            ],
            "text/plain": [
              "alt.Chart(...)"
            ]
          },
          "metadata": {},
          "execution_count": 28
        }
      ]
    },
    {
      "cell_type": "code",
      "source": [
        "print(df)"
      ],
      "metadata": {
        "id": "e4Ql-ejoB1IW",
        "outputId": "ef3a680a-3041-471a-9f8d-a716452071fb",
        "colab": {
          "base_uri": "https://localhost:8080/"
        }
      },
      "execution_count": null,
      "outputs": [
        {
          "output_type": "stream",
          "name": "stdout",
          "text": [
            "       c1       c2  values        DF\n",
            "0   Week0  Discord    20.7  Negative\n",
            "1   Week0  Twitter     2.0  Negative\n",
            "2   Week0   Reddit     9.3  Negative\n",
            "3   Week1  Discord    21.2  Negative\n",
            "4   Week1  Twitter     5.0  Negative\n",
            "..    ...      ...     ...       ...\n",
            "16  Week5  Twitter     4.0  Positive\n",
            "17  Week5   Reddit    10.3  Positive\n",
            "18  Week6  Discord     2.2  Positive\n",
            "19  Week6  Twitter     2.0  Positive\n",
            "20  Week6   Reddit     9.9  Positive\n",
            "\n",
            "[63 rows x 4 columns]\n"
          ]
        }
      ]
    },
    {
      "cell_type": "code",
      "source": [
        "pip install -U matplotlib"
      ],
      "metadata": {
        "colab": {
          "base_uri": "https://localhost:8080/"
        },
        "id": "0nKBMvcxfLiS",
        "outputId": "cbdfa97f-c7dd-462c-cf90-8f499d41f1c6"
      },
      "execution_count": null,
      "outputs": [
        {
          "output_type": "stream",
          "name": "stdout",
          "text": [
            "Looking in indexes: https://pypi.org/simple, https://us-python.pkg.dev/colab-wheels/public/simple/\n",
            "Requirement already satisfied: matplotlib in /usr/local/lib/python3.8/dist-packages (3.6.3)\n",
            "Requirement already satisfied: cycler>=0.10 in /usr/local/lib/python3.8/dist-packages (from matplotlib) (0.11.0)\n",
            "Requirement already satisfied: kiwisolver>=1.0.1 in /usr/local/lib/python3.8/dist-packages (from matplotlib) (1.4.4)\n",
            "Requirement already satisfied: pillow>=6.2.0 in /usr/local/lib/python3.8/dist-packages (from matplotlib) (7.1.2)\n",
            "Requirement already satisfied: python-dateutil>=2.7 in /usr/local/lib/python3.8/dist-packages (from matplotlib) (2.8.2)\n",
            "Requirement already satisfied: contourpy>=1.0.1 in /usr/local/lib/python3.8/dist-packages (from matplotlib) (1.0.6)\n",
            "Requirement already satisfied: packaging>=20.0 in /usr/local/lib/python3.8/dist-packages (from matplotlib) (21.3)\n",
            "Requirement already satisfied: numpy>=1.19 in /usr/local/lib/python3.8/dist-packages (from matplotlib) (1.21.6)\n",
            "Requirement already satisfied: fonttools>=4.22.0 in /usr/local/lib/python3.8/dist-packages (from matplotlib) (4.38.0)\n",
            "Requirement already satisfied: pyparsing>=2.2.1 in /usr/local/lib/python3.8/dist-packages (from matplotlib) (3.0.9)\n",
            "Requirement already satisfied: six>=1.5 in /usr/local/lib/python3.8/dist-packages (from python-dateutil>=2.7->matplotlib) (1.15.0)\n"
          ]
        }
      ]
    },
    {
      "cell_type": "code",
      "source": [
        "pip install matplotlib==3.1.1"
      ],
      "metadata": {
        "colab": {
          "base_uri": "https://localhost:8080/",
          "height": 485
        },
        "id": "tQaFU8caiVey",
        "outputId": "e48842d9-371f-4d5c-f3ab-754330c719f4"
      },
      "execution_count": null,
      "outputs": [
        {
          "output_type": "stream",
          "name": "stdout",
          "text": [
            "Looking in indexes: https://pypi.org/simple, https://us-python.pkg.dev/colab-wheels/public/simple/\n",
            "Collecting matplotlib==3.1.1\n",
            "  Downloading matplotlib-3.1.1.tar.gz (37.8 MB)\n",
            "\u001b[2K     \u001b[90m━━━━━━━━━━━━━━━━━━━━━━━━━━━━━━━━━━━━━━━━\u001b[0m \u001b[32m37.8/37.8 MB\u001b[0m \u001b[31m12.2 MB/s\u001b[0m eta \u001b[36m0:00:00\u001b[0m\n",
            "\u001b[?25h  Preparing metadata (setup.py) ... \u001b[?25l\u001b[?25hdone\n",
            "Requirement already satisfied: cycler>=0.10 in /usr/local/lib/python3.8/dist-packages (from matplotlib==3.1.1) (0.11.0)\n",
            "Requirement already satisfied: kiwisolver>=1.0.1 in /usr/local/lib/python3.8/dist-packages (from matplotlib==3.1.1) (1.4.4)\n",
            "Requirement already satisfied: pyparsing!=2.0.4,!=2.1.2,!=2.1.6,>=2.0.1 in /usr/local/lib/python3.8/dist-packages (from matplotlib==3.1.1) (3.0.9)\n",
            "Requirement already satisfied: python-dateutil>=2.1 in /usr/local/lib/python3.8/dist-packages (from matplotlib==3.1.1) (2.8.2)\n",
            "Requirement already satisfied: numpy>=1.11 in /usr/local/lib/python3.8/dist-packages (from matplotlib==3.1.1) (1.21.6)\n",
            "Requirement already satisfied: six>=1.5 in /usr/local/lib/python3.8/dist-packages (from python-dateutil>=2.1->matplotlib==3.1.1) (1.15.0)\n",
            "Building wheels for collected packages: matplotlib\n",
            "  Building wheel for matplotlib (setup.py) ... \u001b[?25l\u001b[?25hdone\n",
            "  Created wheel for matplotlib: filename=matplotlib-3.1.1-cp38-cp38-linux_x86_64.whl size=11152201 sha256=cda290a67a71cf925255159793eae3ebbc3f8ff4adebd413f27936549ea31eb5\n",
            "  Stored in directory: /root/.cache/pip/wheels/85/86/f1/054e7477b5e68f3c4a1258d12ae1c2205d6889283ce631dfe5\n",
            "Successfully built matplotlib\n",
            "Installing collected packages: matplotlib\n",
            "  Attempting uninstall: matplotlib\n",
            "    Found existing installation: matplotlib 3.6.2\n",
            "    Uninstalling matplotlib-3.6.2:\n",
            "      Successfully uninstalled matplotlib-3.6.2\n",
            "Successfully installed matplotlib-3.1.1\n"
          ]
        },
        {
          "output_type": "display_data",
          "data": {
            "application/vnd.colab-display-data+json": {
              "pip_warning": {
                "packages": [
                  "matplotlib",
                  "mpl_toolkits"
                ]
              }
            }
          },
          "metadata": {}
        }
      ]
    },
    {
      "cell_type": "code",
      "source": [
        "dates = [date(2022, 11, 7), date(2022, 11, 14), date(2022,11,21), \n",
        "         date(2022,11,28), date(2022,12,5), date(2022, 12, 12), date(2022,12,19), date(2022, 12, 25)]\n",
        "min_date = date(np.min(dates).year, np.min(dates).month, np.min(dates).day-5)\n",
        "max_date = date(np.max(dates).year, np.max(dates).month, np.max(dates).day+5)\n",
        " \n",
        "labels = ['Week 0: Pre-Strike', 'Week 1: Strike Starts', 'Week 2: Strike', 'Week 3: Students Express Opinions', \n",
        "          'Week 4: Strikes Become\\nDisruptive to Students\\nDuring Finals', 'Week 5: Winter Break Starts', 'Week 6: UCs reach\\ntentative agreement', \n",
        "          'Strike Ends']\n",
        "# labels with associated dates\n",
        "labels = ['{0:%d %b %Y}:\\n{1}'.format(d, l) for l, d in zip (labels, dates)]\n",
        "\n",
        "\n",
        "fig, ax = plt.subplots(figsize=(15, 4), constrained_layout=True)\n",
        "_ = ax.set_ylim(-2, 1.75)\n",
        "_ = ax.set_xlim(min_date, max_date)\n",
        "_ = ax.axhline(0, xmin=0.05, xmax=0.95, c='purple', zorder=1)\n",
        " \n",
        "_ = ax.scatter(dates, np.zeros(len(dates)), s=120, c='yellow', zorder=2)\n",
        "_ = ax.scatter(dates, np.zeros(len(dates)), s=30, c='darkblue', zorder=3)\n",
        "\n",
        "stems = np.zeros(len(dates))\n",
        "stems[::2] = 0.3\n",
        "stems[1::2] = -0.3   \n",
        "markerline, stemline, baseline = ax.stem(dates, stems, use_line_collection=True)\n",
        "_ = plt.setp(markerline, marker=',', color='darkblue')\n",
        "_ = plt.setp(stemline, color='darkblue')\n",
        "\n",
        "stems = np.zeros(len(dates))\n",
        "stems[::2] = 0.3\n",
        "stems[1::2] = -0.3   \n",
        "markerline, stemline, baseline = ax.stem(dates, stems, use_line_collection=True)\n",
        "_ = plt.setp(markerline, marker=',', color='darkblue')\n",
        "_ = plt.setp(stemline, color='darkblue')\n",
        "label_offsets = np.zeros(len(dates))\n",
        "label_offsets[::2] = 0.35\n",
        "label_offsets[1::2] = -0.7\n",
        "for i, (l, d) in enumerate(zip(labels, dates)):\n",
        "    _ = ax.text(d, label_offsets[i], l, ha='center', fontfamily='serif', fontweight='bold', color='royalblue',fontsize=12)"
      ],
      "metadata": {
        "colab": {
          "base_uri": "https://localhost:8080/",
          "height": 313
        },
        "id": "luwYltoMqfFl",
        "outputId": "a6a7c1a0-8dfb-47e1-a48b-ee9b4ef71e7d"
      },
      "execution_count": null,
      "outputs": [
        {
          "output_type": "display_data",
          "data": {
            "text/plain": [
              "<Figure size 1080x288 with 1 Axes>"
            ],
            "image/png": "[encoded data removed]"
          },
          "metadata": {
            "needs_background": "light"
          }
        }
      ]
    },
    {
      "cell_type": "code",
      "source": [
        "from datetime import date\n",
        "import snscrape.modules.twitter as sntwitter\n",
        "import pandas as pd\n",
        "import numpy as np\n",
        "from textblob import TextBlob\n",
        "from wordcloud import WordCloud\n",
        "import re\n",
        "import matplotlib.pyplot as plt\n",
        "import seaborn as sns\n",
        "plt.style.use('fivethirtyeight')\n",
        "import nltk\n",
        "from nltk.stem.snowball import SnowballStemmer\n",
        "from nltk.corpus import stopwords\n",
        "\n",
        "# Create a list to append tweet data\n",
        "tweets_list = []\n",
        "maxTweets = 300\n",
        "# Using TwitterSearchScraper to scrape data and append tweets to list\n",
        "for i,tweet in enumerate(sntwitter.TwitterSearchScraper('UCSB since:2022-11-15 until:2022-11-22').get_items()):\n",
        "    if i>maxTweets:\n",
        "        break\n",
        "    tweets_list.append([tweet.content])\n",
        "    \n",
        "# Creating a dataframe from the tweets list above\n",
        "tweets_to_df = pd.DataFrame(tweets_list, columns=['Tweets'])\n",
        "\n",
        "\n",
        "def cleanTweets(text):\n",
        "    text = re.sub('@[A-Za-z0-9_]+', '', text) #removes @mentions\n",
        "    text = re.sub('#','',text) #removes hastag '#' symbol\n",
        "    text = re.sub('RT[\\s]+','',text)\n",
        "    text = re.sub('https?:\\/\\/\\S+', '', text) \n",
        "    text = re.sub('\\n',' ',text)\n",
        "    return text\n",
        "tweets_to_df['cleanedTweets'] = tweets_to_df['Tweets'].apply(cleanTweets) #apply cleanTweet function to the tweet\n",
        "\n",
        "tweets_to_df.to_csv('tweets_crypto.csv') #write dataframe into csv file\n",
        "savedTweets = pd.read_csv('tweets_crypto.csv',index_col=0) #reads csv file\n",
        "\n",
        "#get subjectivity and polarity of tweets with a function\n",
        "def getSubjectivity(text):\n",
        "    return TextBlob(text).sentiment.subjectivity\n",
        "#get polarity with a function\n",
        "def getPolarity(text):\n",
        "    return TextBlob(text).sentiment.polarity\n",
        "savedTweets['Subjectivity'] = savedTweets['cleanedTweets'].apply(getSubjectivity)\n",
        "savedTweets['Polarity'] = savedTweets['cleanedTweets'].apply(getPolarity)\n",
        "savedTweets.drop('Tweets', axis=1).head() #shows polarity and subjectivity of each tweet and drops the uncleaned tweets column\n",
        "\n",
        "\n",
        "#create a function to check negative, neutral and positive analysis\n",
        "def getAnalysis(score):\n",
        "    if score<0:\n",
        "        return 'Negative'\n",
        "    elif score ==0:\n",
        "        return 'Neutral'\n",
        "    else:\n",
        "        return 'Positive'\n",
        "    \n",
        "savedTweets['Analysis'] = savedTweets['Polarity'].apply(getAnalysis)\n",
        "\n",
        "savedTweets['Analysis'].value_counts() #shows the counts of tweets' polarity"
      ],
      "metadata": {
        "colab": {
          "base_uri": "https://localhost:8080/",
          "height": 689
        },
        "id": "zmYUwf-BVhgi",
        "outputId": "befede93-7f51-40e1-ed15-ba33539c22b4"
      },
      "execution_count": null,
      "outputs": [
        {
          "output_type": "stream",
          "name": "stdout",
          "text": [
            "Looking in indexes: https://pypi.org/simple, https://us-python.pkg.dev/colab-wheels/public/simple/\n",
            "Collecting git+https://github.com/JustAnotherArchivist/snscrape.git\n",
            "  Cloning https://github.com/JustAnotherArchivist/snscrape.git to /tmp/pip-req-build-u1vgutj8\n",
            "  Running command git clone --filter=blob:none --quiet https://github.com/JustAnotherArchivist/snscrape.git /tmp/pip-req-build-u1vgutj8\n",
            "  Resolved https://github.com/JustAnotherArchivist/snscrape.git to commit 8ad26fc7d1349fabf79ab22c7d3db3f05c67f5c6\n",
            "  Installing build dependencies ... \u001b[?25l\u001b[?25hdone\n",
            "  Getting requirements to build wheel ... \u001b[?25l\u001b[?25hdone\n",
            "  Installing backend dependencies ... \u001b[?25l\u001b[?25hdone\n",
            "  Preparing metadata (pyproject.toml) ... \u001b[?25l\u001b[?25hdone\n",
            "Building wheels for collected packages: UNKNOWN\n",
            "  Building wheel for UNKNOWN (pyproject.toml) ... \u001b[?25l\u001b[?25hdone\n",
            "  Created wheel for UNKNOWN: filename=UNKNOWN-0.5.0.20230113-py3-none-any.whl size=13383 sha256=3fd1907f938aa57e29189dcb69000dd9983de9b859c60b6cda9eaf2e4a8fc05f\n",
            "  Stored in directory: /tmp/pip-ephem-wheel-cache-xsyi9d9s/wheels/92/42/87/33fa9b18f7a75d02643a9ca3743339aec9be28c6796267c7d8\n",
            "Successfully built UNKNOWN\n",
            "Installing collected packages: UNKNOWN\n",
            "Successfully installed UNKNOWN-0.5.0.20230113\n"
          ]
        },
        {
          "output_type": "error",
          "ename": "ModuleNotFoundError",
          "evalue": "ignored",
          "traceback": [
            "\u001b[0;31m---------------------------------------------------------------------------\u001b[0m",
            "\u001b[0;31mModuleNotFoundError\u001b[0m                       Traceback (most recent call last)",
            "\u001b[0;32m<ipython-input-3-44be7884452a>\u001b[0m in \u001b[0;36m<module>\u001b[0;34m\u001b[0m\n\u001b[1;32m      1\u001b[0m \u001b[0;32mfrom\u001b[0m \u001b[0mdatetime\u001b[0m \u001b[0;32mimport\u001b[0m \u001b[0mdate\u001b[0m\u001b[0;34m\u001b[0m\u001b[0;34m\u001b[0m\u001b[0m\n\u001b[1;32m      2\u001b[0m \u001b[0mget_ipython\u001b[0m\u001b[0;34m(\u001b[0m\u001b[0;34m)\u001b[0m\u001b[0;34m.\u001b[0m\u001b[0msystem\u001b[0m\u001b[0;34m(\u001b[0m\u001b[0;34m'pip3 install git+https://github.com/JustAnotherArchivist/snscrape.git'\u001b[0m\u001b[0;34m)\u001b[0m\u001b[0;34m\u001b[0m\u001b[0;34m\u001b[0m\u001b[0m\n\u001b[0;32m----> 3\u001b[0;31m \u001b[0;32mimport\u001b[0m \u001b[0msnscrape\u001b[0m\u001b[0;34m.\u001b[0m\u001b[0mmodules\u001b[0m\u001b[0;34m.\u001b[0m\u001b[0mtwitter\u001b[0m \u001b[0;32mas\u001b[0m \u001b[0msntwitter\u001b[0m\u001b[0;34m\u001b[0m\u001b[0;34m\u001b[0m\u001b[0m\n\u001b[0m\u001b[1;32m      4\u001b[0m \u001b[0;32mimport\u001b[0m \u001b[0mpandas\u001b[0m \u001b[0;32mas\u001b[0m \u001b[0mpd\u001b[0m\u001b[0;34m\u001b[0m\u001b[0;34m\u001b[0m\u001b[0m\n\u001b[1;32m      5\u001b[0m \u001b[0;32mimport\u001b[0m \u001b[0mnumpy\u001b[0m \u001b[0;32mas\u001b[0m \u001b[0mnp\u001b[0m\u001b[0;34m\u001b[0m\u001b[0;34m\u001b[0m\u001b[0m\n",
            "\u001b[0;31mModuleNotFoundError\u001b[0m: No module named 'snscrape'",
            "",
            "\u001b[0;31m---------------------------------------------------------------------------\u001b[0;32m\nNOTE: If your import is failing due to a missing package, you can\nmanually install dependencies using either !pip or !apt.\n\nTo view examples of installing some common dependencies, click the\n\"Open Examples\" button below.\n\u001b[0;31m---------------------------------------------------------------------------\u001b[0m\n"
          ],
          "errorDetails": {
            "actions": [
              {
                "action": "open_url",
                "actionText": "Open Examples",
                "url": "/notebooks/snippets/importing_libraries.ipynb"
              }
            ]
          }
        }
      ]
    }
  ]
}