{
  "cells": [
    {
      "cell_type": "markdown",
      "metadata": {
        "id": "view-in-github",
        "colab_type": "text"
      },
      "source": [
        "<a href=\"https://colab.research.google.com/github/samanthasu12/TA-Strike-Analysis-For-Daily-Nexus/blob/main/OverallSentiment_TA_Strike.ipynb\" target=\"_parent\"><img src=\"https://colab.research.google.com/assets/colab-badge.svg\" alt=\"Open In Colab\"/></a>"
      ]
    },
    {
      "cell_type": "code",
      "execution_count": 1,
      "metadata": {
        "colab": {
          "base_uri": "https://localhost:8080/"
        },
        "id": "6_uIY8OsTod2",
        "outputId": "550aaf00-e226-480c-c2e0-af7fdcac7bb6"
      },
      "outputs": [
        {
          "output_type": "stream",
          "name": "stdout",
          "text": [
            "Looking in indexes: https://pypi.org/simple, https://us-python.pkg.dev/colab-wheels/public/simple/\n",
            "Collecting praw\n",
            "  Downloading praw-7.6.1-py3-none-any.whl (188 kB)\n",
            "\u001b[2K     \u001b[90m━━━━━━━━━━━━━━━━━━━━━━━━━━━━━━━━━━━━━━━\u001b[0m \u001b[32m188.8/188.8 KB\u001b[0m \u001b[31m1.6 MB/s\u001b[0m eta \u001b[36m0:00:00\u001b[0m\n",
            "\u001b[?25hCollecting prawcore<3,>=2.1\n",
            "  Downloading prawcore-2.3.0-py3-none-any.whl (16 kB)\n",
            "Collecting update-checker>=0.18\n",
            "  Downloading update_checker-0.18.0-py3-none-any.whl (7.0 kB)\n",
            "Collecting websocket-client>=0.54.0\n",
            "  Downloading websocket_client-1.4.2-py3-none-any.whl (55 kB)\n",
            "\u001b[2K     \u001b[90m━━━━━━━━━━━━━━━━━━━━━━━━━━━━━━━━━━━━━━━━\u001b[0m \u001b[32m55.3/55.3 KB\u001b[0m \u001b[31m3.0 MB/s\u001b[0m eta \u001b[36m0:00:00\u001b[0m\n",
            "\u001b[?25hRequirement already satisfied: requests<3.0,>=2.6.0 in /usr/local/lib/python3.8/dist-packages (from prawcore<3,>=2.1->praw) (2.25.1)\n",
            "Requirement already satisfied: certifi>=2017.4.17 in /usr/local/lib/python3.8/dist-packages (from requests<3.0,>=2.6.0->prawcore<3,>=2.1->praw) (2022.12.7)\n",
            "Requirement already satisfied: chardet<5,>=3.0.2 in /usr/local/lib/python3.8/dist-packages (from requests<3.0,>=2.6.0->prawcore<3,>=2.1->praw) (4.0.0)\n",
            "Requirement already satisfied: urllib3<1.27,>=1.21.1 in /usr/local/lib/python3.8/dist-packages (from requests<3.0,>=2.6.0->prawcore<3,>=2.1->praw) (1.24.3)\n",
            "Requirement already satisfied: idna<3,>=2.5 in /usr/local/lib/python3.8/dist-packages (from requests<3.0,>=2.6.0->prawcore<3,>=2.1->praw) (2.10)\n",
            "Installing collected packages: websocket-client, update-checker, prawcore, praw\n",
            "Successfully installed praw-7.6.1 prawcore-2.3.0 update-checker-0.18.0 websocket-client-1.4.2\n"
          ]
        }
      ],
      "source": [
        "pip install praw"
      ]
    },
    {
      "cell_type": "code",
      "execution_count": 2,
      "metadata": {
        "id": "Kcm2zAKETt2r"
      },
      "outputs": [],
      "source": [
        "#imports for reddit scraping/diagrams/sentiment analysis\n",
        "import praw\n",
        "import pandas as pd\n",
        "import datetime\n",
        "import nltk                                \n",
        "import matplotlib.pyplot as plt            \n",
        "import random                             \n",
        "import re                                 \n",
        "import string                                     \n",
        "from nltk.stem import PorterStemmer       \n",
        "from nltk.tokenize import sent_tokenize  \n",
        "from textblob import TextBlob\n",
        "import seaborn as sns\n",
        "import numpy as np\n",
        "import nltk\n",
        "from nltk.sentiment.vader import SentimentIntensityAnalyzer\n",
        "from nltk.tokenize import word_tokenize, RegexpTokenizer \n",
        "from nltk.corpus import stopwords\n",
        "from pandas import option_context\n",
        "\n",
        "# visualization\n",
        "import matplotlib.pyplot as plt\n",
        "%matplotlib inline\n",
        "plt.rcParams[\"figure.figsize\"] = (10, 8) \n",
        "import seaborn as sns\n",
        "sns.set(style='whitegrid', palette='Dark2')\n",
        "from wordcloud import WordCloud"
      ]
    },
    {
      "cell_type": "code",
      "execution_count": null,
      "metadata": {
        "id": "rY5G1seRTznJ"
      },
      "outputs": [],
      "source": [
        "plt.rcParams['figure.dpi'] = 200\n",
        "plt.rcParams['savefig.dpi'] = 200"
      ]
    },
    {
      "cell_type": "code",
      "execution_count": 3,
      "metadata": {
        "id": "hQqJaCFwT10S"
      },
      "outputs": [],
      "source": [
        "#my developer access code\n",
        "reddit_read_only = praw.Reddit(client_id=\"RGdKiAFJPXF58ib0Tr4fcw\",\n",
        "                               client_secret=\"1hXSX11y-nMi8Fobsp9NDMiT7s0mMA\",\n",
        "                               user_agent=\"TA Strike Scraper UCSB\",\n",
        "                               check_for_async=False)\n",
        "#the subreddit that I'm using\n",
        "subreddit = reddit_read_only.subreddit(\"UCSantaBarbara\")\n",
        "\n",
        "#checking for keywords\n",
        "keyword_list = [\"strike\", \"graduate student workers\" \"salary\", \"wages\", \"cola\", \" uaw \", \"union\", \"tentative agreement\", \"picket\"]"
      ]
    },
    {
      "cell_type": "code",
      "execution_count": 4,
      "metadata": {
        "colab": {
          "base_uri": "https://localhost:8080/",
          "height": 616
        },
        "id": "qrGLKwQKT5gh",
        "outputId": "48bb57ea-219f-44a0-ed0a-50eb54581fef"
      },
      "outputs": [
        {
          "output_type": "execute_result",
          "data": {
            "text/plain": [
              "                                                 Title  \\\n",
              "0                  Anyone staying in IV for Christmas?   \n",
              "1    Dropped PSTAT 8 on GOLD and it also dropped my...   \n",
              "2                                   160b with Shkolnik   \n",
              "3                            Mental Illness Resources?   \n",
              "4       Is Financial Math not a major anymore on GOLD?   \n",
              "..                                                 ...   \n",
              "531  can you get prescribed for medication through ...   \n",
              "532                        Passing grade for MCDB 101A   \n",
              "533            Internationals during thanksgiving week   \n",
              "534                      What went on here last night?   \n",
              "535                  HydroFlask spotted. Top of Lot 18   \n",
              "\n",
              "                                             Post Text  Score      ID  \\\n",
              "0    Hey everyone, since I’m staying in IV for Chri...     49  zuvxyp   \n",
              "1    Merry Christmas. I was looking at GOLD because...      1  zutubg   \n",
              "2    Has anyone taken 160b with Shkolnik? I've hear...      2  zup0on   \n",
              "3    Hello everyone. Recently, I’ve been thinking a...     32  zunvbu   \n",
              "4    So basically I am doing Grad School applicatio...     16  zuhqwz   \n",
              "..                                                 ...    ...     ...   \n",
              "531  i haven’t used ucsb shs that much but i want t...      7  ywg18x   \n",
              "532  I was wondering if anyone who has taken this c...      4  ywf686   \n",
              "533  What are you guys going to do? I’m worried abo...     13  ywd5cu   \n",
              "534                                                        56  ywb04x   \n",
              "535                                                        16  ywab0a   \n",
              "\n",
              "                                        Total Comments  \\\n",
              "0    [Damn bruh sorry for you but merry Christmas; ...   \n",
              "1    [The system doesn’t just drop people. It’s eit...   \n",
              "2    [What department is this? PSTAT 160B?, Last wi...   \n",
              "3    [Skip caps, if you want actual help schedule a...   \n",
              "4    [No, GOLD doesn’t recognize your major anymore...   \n",
              "..                                                 ...   \n",
              "531  [Yup! Just make an appointment, i went to shs ...   \n",
              "532  [That midterm today sheeeesh, I heard the clas...   \n",
              "533  [i am going to play video games for 100 hours ...   \n",
              "534  [average minor in possession traffic stop 🙏😔, ...   \n",
              "535                                                 []   \n",
              "\n",
              "     Total Number of Comments  \n",
              "0                          17  \n",
              "1                           4  \n",
              "2                          12  \n",
              "3                           7  \n",
              "4                           9  \n",
              "..                        ...  \n",
              "531                         6  \n",
              "532                         3  \n",
              "533                        11  \n",
              "534                        13  \n",
              "535                         0  \n",
              "\n",
              "[536 rows x 6 columns]"
            ],
            "text/html": [
              "\n",
              "  <div id=\"df-c78b5074-6a8d-41e3-aa6b-7cc147b065d3\">\n",
              "    <div class=\"colab-df-container\">\n",
              "      <div>\n",
              "<style scoped>\n",
              "    .dataframe tbody tr th:only-of-type {\n",
              "        vertical-align: middle;\n",
              "    }\n",
              "\n",
              "    .dataframe tbody tr th {\n",
              "        vertical-align: top;\n",
              "    }\n",
              "\n",
              "    .dataframe thead th {\n",
              "        text-align: right;\n",
              "    }\n",
              "</style>\n",
              "<table border=\"1\" class=\"dataframe\">\n",
              "  <thead>\n",
              "    <tr style=\"text-align: right;\">\n",
              "      <th></th>\n",
              "      <th>Title</th>\n",
              "      <th>Post Text</th>\n",
              "      <th>Score</th>\n",
              "      <th>ID</th>\n",
              "      <th>Total Comments</th>\n",
              "      <th>Total Number of Comments</th>\n",
              "    </tr>\n",
              "  </thead>\n",
              "  <tbody>\n",
              "    <tr>\n",
              "      <th>0</th>\n",
              "      <td>Anyone staying in IV for Christmas?</td>\n",
              "      <td>Hey everyone, since I’m staying in IV for Chri...</td>\n",
              "      <td>49</td>\n",
              "      <td>zuvxyp</td>\n",
              "      <td>[Damn bruh sorry for you but merry Christmas; ...</td>\n",
              "      <td>17</td>\n",
              "    </tr>\n",
              "    <tr>\n",
              "      <th>1</th>\n",
              "      <td>Dropped PSTAT 8 on GOLD and it also dropped my...</td>\n",
              "      <td>Merry Christmas. I was looking at GOLD because...</td>\n",
              "      <td>1</td>\n",
              "      <td>zutubg</td>\n",
              "      <td>[The system doesn’t just drop people. It’s eit...</td>\n",
              "      <td>4</td>\n",
              "    </tr>\n",
              "    <tr>\n",
              "      <th>2</th>\n",
              "      <td>160b with Shkolnik</td>\n",
              "      <td>Has anyone taken 160b with Shkolnik? I've hear...</td>\n",
              "      <td>2</td>\n",
              "      <td>zup0on</td>\n",
              "      <td>[What department is this? PSTAT 160B?, Last wi...</td>\n",
              "      <td>12</td>\n",
              "    </tr>\n",
              "    <tr>\n",
              "      <th>3</th>\n",
              "      <td>Mental Illness Resources?</td>\n",
              "      <td>Hello everyone. Recently, I’ve been thinking a...</td>\n",
              "      <td>32</td>\n",
              "      <td>zunvbu</td>\n",
              "      <td>[Skip caps, if you want actual help schedule a...</td>\n",
              "      <td>7</td>\n",
              "    </tr>\n",
              "    <tr>\n",
              "      <th>4</th>\n",
              "      <td>Is Financial Math not a major anymore on GOLD?</td>\n",
              "      <td>So basically I am doing Grad School applicatio...</td>\n",
              "      <td>16</td>\n",
              "      <td>zuhqwz</td>\n",
              "      <td>[No, GOLD doesn’t recognize your major anymore...</td>\n",
              "      <td>9</td>\n",
              "    </tr>\n",
              "    <tr>\n",
              "      <th>...</th>\n",
              "      <td>...</td>\n",
              "      <td>...</td>\n",
              "      <td>...</td>\n",
              "      <td>...</td>\n",
              "      <td>...</td>\n",
              "      <td>...</td>\n",
              "    </tr>\n",
              "    <tr>\n",
              "      <th>531</th>\n",
              "      <td>can you get prescribed for medication through ...</td>\n",
              "      <td>i haven’t used ucsb shs that much but i want t...</td>\n",
              "      <td>7</td>\n",
              "      <td>ywg18x</td>\n",
              "      <td>[Yup! Just make an appointment, i went to shs ...</td>\n",
              "      <td>6</td>\n",
              "    </tr>\n",
              "    <tr>\n",
              "      <th>532</th>\n",
              "      <td>Passing grade for MCDB 101A</td>\n",
              "      <td>I was wondering if anyone who has taken this c...</td>\n",
              "      <td>4</td>\n",
              "      <td>ywf686</td>\n",
              "      <td>[That midterm today sheeeesh, I heard the clas...</td>\n",
              "      <td>3</td>\n",
              "    </tr>\n",
              "    <tr>\n",
              "      <th>533</th>\n",
              "      <td>Internationals during thanksgiving week</td>\n",
              "      <td>What are you guys going to do? I’m worried abo...</td>\n",
              "      <td>13</td>\n",
              "      <td>ywd5cu</td>\n",
              "      <td>[i am going to play video games for 100 hours ...</td>\n",
              "      <td>11</td>\n",
              "    </tr>\n",
              "    <tr>\n",
              "      <th>534</th>\n",
              "      <td>What went on here last night?</td>\n",
              "      <td></td>\n",
              "      <td>56</td>\n",
              "      <td>ywb04x</td>\n",
              "      <td>[average minor in possession traffic stop 🙏😔, ...</td>\n",
              "      <td>13</td>\n",
              "    </tr>\n",
              "    <tr>\n",
              "      <th>535</th>\n",
              "      <td>HydroFlask spotted. Top of Lot 18</td>\n",
              "      <td></td>\n",
              "      <td>16</td>\n",
              "      <td>ywab0a</td>\n",
              "      <td>[]</td>\n",
              "      <td>0</td>\n",
              "    </tr>\n",
              "  </tbody>\n",
              "</table>\n",
              "<p>536 rows × 6 columns</p>\n",
              "</div>\n",
              "      <button class=\"colab-df-convert\" onclick=\"convertToInteractive('df-c78b5074-6a8d-41e3-aa6b-7cc147b065d3')\"\n",
              "              title=\"Convert this dataframe to an interactive table.\"\n",
              "              style=\"display:none;\">\n",
              "        \n",
              "  <svg xmlns=\"http://www.w3.org/2000/svg\" height=\"24px\"viewBox=\"0 0 24 24\"\n",
              "       width=\"24px\">\n",
              "    <path d=\"M0 0h24v24H0V0z\" fill=\"none\"/>\n",
              "    <path d=\"M18.56 5.44l.94 2.06.94-2.06 2.06-.94-2.06-.94-.94-2.06-.94 2.06-2.06.94zm-11 1L8.5 8.5l.94-2.06 2.06-.94-2.06-.94L8.5 2.5l-.94 2.06-2.06.94zm10 10l.94 2.06.94-2.06 2.06-.94-2.06-.94-.94-2.06-.94 2.06-2.06.94z\"/><path d=\"M17.41 7.96l-1.37-1.37c-.4-.4-.92-.59-1.43-.59-.52 0-1.04.2-1.43.59L10.3 9.45l-7.72 7.72c-.78.78-.78 2.05 0 2.83L4 21.41c.39.39.9.59 1.41.59.51 0 1.02-.2 1.41-.59l7.78-7.78 2.81-2.81c.8-.78.8-2.07 0-2.86zM5.41 20L4 18.59l7.72-7.72 1.47 1.35L5.41 20z\"/>\n",
              "  </svg>\n",
              "      </button>\n",
              "      \n",
              "  <style>\n",
              "    .colab-df-container {\n",
              "      display:flex;\n",
              "      flex-wrap:wrap;\n",
              "      gap: 12px;\n",
              "    }\n",
              "\n",
              "    .colab-df-convert {\n",
              "      background-color: #E8F0FE;\n",
              "      border: none;\n",
              "      border-radius: 50%;\n",
              "      cursor: pointer;\n",
              "      display: none;\n",
              "      fill: #1967D2;\n",
              "      height: 32px;\n",
              "      padding: 0 0 0 0;\n",
              "      width: 32px;\n",
              "    }\n",
              "\n",
              "    .colab-df-convert:hover {\n",
              "      background-color: #E2EBFA;\n",
              "      box-shadow: 0px 1px 2px rgba(60, 64, 67, 0.3), 0px 1px 3px 1px rgba(60, 64, 67, 0.15);\n",
              "      fill: #174EA6;\n",
              "    }\n",
              "\n",
              "    [theme=dark] .colab-df-convert {\n",
              "      background-color: #3B4455;\n",
              "      fill: #D2E3FC;\n",
              "    }\n",
              "\n",
              "    [theme=dark] .colab-df-convert:hover {\n",
              "      background-color: #434B5C;\n",
              "      box-shadow: 0px 1px 3px 1px rgba(0, 0, 0, 0.15);\n",
              "      filter: drop-shadow(0px 1px 2px rgba(0, 0, 0, 0.3));\n",
              "      fill: #FFFFFF;\n",
              "    }\n",
              "  </style>\n",
              "\n",
              "      <script>\n",
              "        const buttonEl =\n",
              "          document.querySelector('#df-c78b5074-6a8d-41e3-aa6b-7cc147b065d3 button.colab-df-convert');\n",
              "        buttonEl.style.display =\n",
              "          google.colab.kernel.accessAllowed ? 'block' : 'none';\n",
              "\n",
              "        async function convertToInteractive(key) {\n",
              "          const element = document.querySelector('#df-c78b5074-6a8d-41e3-aa6b-7cc147b065d3');\n",
              "          const dataTable =\n",
              "            await google.colab.kernel.invokeFunction('convertToInteractive',\n",
              "                                                     [key], {});\n",
              "          if (!dataTable) return;\n",
              "\n",
              "          const docLinkHtml = 'Like what you see? Visit the ' +\n",
              "            '<a target=\"_blank\" href=https://colab.research.google.com/notebooks/data_table.ipynb>data table notebook</a>'\n",
              "            + ' to learn more about interactive tables.';\n",
              "          element.innerHTML = '';\n",
              "          dataTable['output_type'] = 'display_data';\n",
              "          await google.colab.output.renderOutput(dataTable, element);\n",
              "          const docLink = document.createElement('div');\n",
              "          docLink.innerHTML = docLinkHtml;\n",
              "          element.appendChild(docLink);\n",
              "        }\n",
              "      </script>\n",
              "    </div>\n",
              "  </div>\n",
              "  "
            ]
          },
          "metadata": {},
          "execution_count": 4
        }
      ],
      "source": [
        "#all posts\n",
        "\n",
        "posts = subreddit.new(limit=4000)\n",
        "\n",
        "posts_dict0 = {\"Title\": [], \"Post Text\": [], \"Score\": [], \"ID\": [], \"Total Comments\": [], \"Total Number of Comments\":[]}\n",
        " \n",
        "for post in posts:\n",
        "  dt=datetime.datetime.utcfromtimestamp(post.created_utc)\n",
        "  if datetime.datetime(2022,11,7,0,0,0) < dt < datetime.datetime(2022,12,25,11,59,59):\n",
        "    posts_dict0[\"Title\"].append(post.title)\n",
        "    posts_dict0[\"Post Text\"].append(post.selftext)\n",
        "    posts_dict0[\"Score\"].append(post.score)\n",
        "    posts_dict0[\"ID\"].append(post.id)\n",
        "    random_comment_list0=[]\n",
        "    post.comments.replace_more(limit=0)\n",
        "    for comment in post.comments.list():\n",
        "      random_comment_list0.append(comment.body)\n",
        "    posts_dict0[\"Total Comments\"].append(random_comment_list0)\n",
        "    posts_dict0[\"Total Number of Comments\"].append(post.num_comments)\n",
        "\n",
        "week0_posts = pd.DataFrame(posts_dict0)\n",
        "week0_posts"
      ]
    },
    {
      "cell_type": "code",
      "execution_count": 5,
      "metadata": {
        "colab": {
          "base_uri": "https://localhost:8080/"
        },
        "id": "HipmAnOVU78O",
        "outputId": "608063ce-729e-4198-b942-194a0b9cebe7"
      },
      "outputs": [
        {
          "output_type": "execute_result",
          "data": {
            "text/plain": [
              "False"
            ]
          },
          "metadata": {},
          "execution_count": 5
        }
      ],
      "source": [
        "#function for checking if something contains the keyword\n",
        "def has_any_keyword(mystring,keywords):\n",
        "  for word in mystring.split():\n",
        "    for keyword in keywords:\n",
        "      if keyword in word.lower():\n",
        "        return True\n",
        "  return False\n",
        "has_any_keyword(r\"Apparently it was up on Gradescope for like 20 minutes on Monday so it's done being graded and they are just withholding it for some reason, my friend was their score but I missed it before they removed it\", keyword_list)"
      ]
    },
    {
      "cell_type": "code",
      "execution_count": 6,
      "metadata": {
        "id": "4MGhcNdKY6cj"
      },
      "outputs": [],
      "source": [
        "newdf0 = pd.DataFrame(posts_dict0)\n",
        "list0=[]\n",
        "for i in range(0,len(week0_posts)):\n",
        "  if has_any_keyword(week0_posts['Title'].iloc[i],keyword_list):\n",
        "    list0.append(i)\n",
        "  if has_any_keyword(week0_posts['Post Text'].iloc[i],keyword_list):\n",
        "    list0.append(i)\n",
        "  for j in week0_posts['Total Comments'][i]:\n",
        "    if has_any_keyword(j,keyword_list):\n",
        "        list0.append(i)\n",
        "emptylist0=[*set(list0)]\n",
        "newdf0=week0_posts.iloc[emptylist0]"
      ]
    },
    {
      "cell_type": "code",
      "execution_count": 7,
      "metadata": {
        "colab": {
          "base_uri": "https://localhost:8080/"
        },
        "id": "CpN-3CzkY9mn",
        "outputId": "f347b4d8-8d01-49cd-98b5-463245999761"
      },
      "outputs": [
        {
          "output_type": "stream",
          "name": "stderr",
          "text": [
            "<ipython-input-7-718bc7b2aadc>:2: SettingWithCopyWarning: \n",
            "A value is trying to be set on a copy of a slice from a DataFrame.\n",
            "Try using .loc[row_indexer,col_indexer] = value instead\n",
            "\n",
            "See the caveats in the documentation: https://pandas.pydata.org/pandas-docs/stable/user_guide/indexing.html#returning-a-view-versus-a-copy\n",
            "  newdf0['Combined Title and Subtext']=newdf0['Title']+'            '+newdf0['Post Text']\n",
            "/usr/local/lib/python3.8/dist-packages/pandas/core/generic.py:6619: SettingWithCopyWarning: \n",
            "A value is trying to be set on a copy of a slice from a DataFrame\n",
            "\n",
            "See the caveats in the documentation: https://pandas.pydata.org/pandas-docs/stable/user_guide/indexing.html#returning-a-view-versus-a-copy\n",
            "  return self._update_inplace(result)\n",
            "/usr/local/lib/python3.8/dist-packages/pandas/core/frame.py:5238: SettingWithCopyWarning: \n",
            "A value is trying to be set on a copy of a slice from a DataFrame\n",
            "\n",
            "See the caveats in the documentation: https://pandas.pydata.org/pandas-docs/stable/user_guide/indexing.html#returning-a-view-versus-a-copy\n",
            "  return super().replace(\n",
            "/usr/local/lib/python3.8/dist-packages/pandas/core/indexing.py:1732: SettingWithCopyWarning: \n",
            "A value is trying to be set on a copy of a slice from a DataFrame\n",
            "\n",
            "See the caveats in the documentation: https://pandas.pydata.org/pandas-docs/stable/user_guide/indexing.html#returning-a-view-versus-a-copy\n",
            "  self._setitem_single_block(indexer, value, name)\n"
          ]
        }
      ],
      "source": [
        "newdf0.head()\n",
        "newdf0['Combined Title and Subtext']=newdf0['Title']+'            '+newdf0['Post Text']\n",
        "newdf0=newdf0[['Score','ID','Total Comments','Combined Title and Subtext']]\n",
        "\n",
        "for i in range(0,len(newdf0)):\n",
        "  #Combined\n",
        "  if has_any_keyword(newdf0['Combined Title and Subtext'].iloc[i],keyword_list)==False:\n",
        "    combined = str(newdf0.at[newdf0.index[i],'Combined Title and Subtext'])\n",
        "    newdf0['Combined Title and Subtext'].replace(combined,\"\", inplace=True)\n",
        "  #Comments\n",
        "  comments = newdf0['Total Comments'].iloc[i]\n",
        "  for j in comments:\n",
        "    if has_any_keyword(j,keyword_list) == False:\n",
        "      newdf0['Total Comments'].iloc[i].remove(j)\n",
        "        \n",
        "\n",
        "newdf0.replace('', np.nan, inplace=True)\n",
        "newdf0\n",
        "\n",
        "for i in range(0, len(newdf0)):\n",
        "  if newdf0['Total Comments'].iloc[i]==[]:\n",
        "    newdf0['Total Comments'].iloc[i]=np.nan"
      ]
    },
    {
      "cell_type": "code",
      "execution_count": 8,
      "metadata": {
        "colab": {
          "base_uri": "https://localhost:8080/",
          "height": 419
        },
        "id": "bmysZGgBZEeu",
        "outputId": "3a21c602-84de-4a53-ca6e-d8c0703dab17"
      },
      "outputs": [
        {
          "output_type": "execute_result",
          "data": {
            "text/plain": [
              "     Score      ID                                     Total Comments  \\\n",
              "512     71  yxw3cb  [The strikers should surround that building go...   \n",
              "257    344  zeo91z  [I’m just trynna go to class without being blo...   \n",
              "259     41  zeh3su  [Just an explanation, landlords are allowed to...   \n",
              "515      6  yxk98b  [I worked as a legislative aide for a number o...   \n",
              "261    115  zeghsv  [Lots 23, 27, and 29 are open, spread the word...   \n",
              "..     ...     ...                                                ...   \n",
              "250      0  zf2lc6  [Or, hear me out, people are genuinely furious...   \n",
              "501    194  yy6de8  [The title was required for me to put. Idk why...   \n",
              "380     50  z77yyi  [The internal vice president hasn't been doing...   \n",
              "502    417  yy4nhs  [I'm assuming the school gets away with it bec...   \n",
              "255     38  zeugc7  [I support the strike and fair pay for the TAs...   \n",
              "\n",
              "                            Combined Title and Subtext  \n",
              "512  Striking Academic Workers formed a picket a li...  \n",
              "257                                                NaN  \n",
              "259                                                NaN  \n",
              "515                                                NaN  \n",
              "261  Parking lot been blocked            WTF are yo...  \n",
              "..                                                 ...  \n",
              "250  Conspiracy time            The UC system is pa...  \n",
              "501                          Strike Ritual              \n",
              "380                                                NaN  \n",
              "502  Grad worker union bargaining: FAQs for undergr...  \n",
              "255  For or against the strike I want to know…     ...  \n",
              "\n",
              "[75 rows x 4 columns]"
            ],
            "text/html": [
              "\n",
              "  <div id=\"df-9b548dd6-3873-46ac-b4db-262b02c162e0\">\n",
              "    <div class=\"colab-df-container\">\n",
              "      <div>\n",
              "<style scoped>\n",
              "    .dataframe tbody tr th:only-of-type {\n",
              "        vertical-align: middle;\n",
              "    }\n",
              "\n",
              "    .dataframe tbody tr th {\n",
              "        vertical-align: top;\n",
              "    }\n",
              "\n",
              "    .dataframe thead th {\n",
              "        text-align: right;\n",
              "    }\n",
              "</style>\n",
              "<table border=\"1\" class=\"dataframe\">\n",
              "  <thead>\n",
              "    <tr style=\"text-align: right;\">\n",
              "      <th></th>\n",
              "      <th>Score</th>\n",
              "      <th>ID</th>\n",
              "      <th>Total Comments</th>\n",
              "      <th>Combined Title and Subtext</th>\n",
              "    </tr>\n",
              "  </thead>\n",
              "  <tbody>\n",
              "    <tr>\n",
              "      <th>512</th>\n",
              "      <td>71</td>\n",
              "      <td>yxw3cb</td>\n",
              "      <td>[The strikers should surround that building go...</td>\n",
              "      <td>Striking Academic Workers formed a picket a li...</td>\n",
              "    </tr>\n",
              "    <tr>\n",
              "      <th>257</th>\n",
              "      <td>344</td>\n",
              "      <td>zeo91z</td>\n",
              "      <td>[I’m just trynna go to class without being blo...</td>\n",
              "      <td>NaN</td>\n",
              "    </tr>\n",
              "    <tr>\n",
              "      <th>259</th>\n",
              "      <td>41</td>\n",
              "      <td>zeh3su</td>\n",
              "      <td>[Just an explanation, landlords are allowed to...</td>\n",
              "      <td>NaN</td>\n",
              "    </tr>\n",
              "    <tr>\n",
              "      <th>515</th>\n",
              "      <td>6</td>\n",
              "      <td>yxk98b</td>\n",
              "      <td>[I worked as a legislative aide for a number o...</td>\n",
              "      <td>NaN</td>\n",
              "    </tr>\n",
              "    <tr>\n",
              "      <th>261</th>\n",
              "      <td>115</td>\n",
              "      <td>zeghsv</td>\n",
              "      <td>[Lots 23, 27, and 29 are open, spread the word...</td>\n",
              "      <td>Parking lot been blocked            WTF are yo...</td>\n",
              "    </tr>\n",
              "    <tr>\n",
              "      <th>...</th>\n",
              "      <td>...</td>\n",
              "      <td>...</td>\n",
              "      <td>...</td>\n",
              "      <td>...</td>\n",
              "    </tr>\n",
              "    <tr>\n",
              "      <th>250</th>\n",
              "      <td>0</td>\n",
              "      <td>zf2lc6</td>\n",
              "      <td>[Or, hear me out, people are genuinely furious...</td>\n",
              "      <td>Conspiracy time            The UC system is pa...</td>\n",
              "    </tr>\n",
              "    <tr>\n",
              "      <th>501</th>\n",
              "      <td>194</td>\n",
              "      <td>yy6de8</td>\n",
              "      <td>[The title was required for me to put. Idk why...</td>\n",
              "      <td>Strike Ritual</td>\n",
              "    </tr>\n",
              "    <tr>\n",
              "      <th>380</th>\n",
              "      <td>50</td>\n",
              "      <td>z77yyi</td>\n",
              "      <td>[The internal vice president hasn't been doing...</td>\n",
              "      <td>NaN</td>\n",
              "    </tr>\n",
              "    <tr>\n",
              "      <th>502</th>\n",
              "      <td>417</td>\n",
              "      <td>yy4nhs</td>\n",
              "      <td>[I'm assuming the school gets away with it bec...</td>\n",
              "      <td>Grad worker union bargaining: FAQs for undergr...</td>\n",
              "    </tr>\n",
              "    <tr>\n",
              "      <th>255</th>\n",
              "      <td>38</td>\n",
              "      <td>zeugc7</td>\n",
              "      <td>[I support the strike and fair pay for the TAs...</td>\n",
              "      <td>For or against the strike I want to know…     ...</td>\n",
              "    </tr>\n",
              "  </tbody>\n",
              "</table>\n",
              "<p>75 rows × 4 columns</p>\n",
              "</div>\n",
              "      <button class=\"colab-df-convert\" onclick=\"convertToInteractive('df-9b548dd6-3873-46ac-b4db-262b02c162e0')\"\n",
              "              title=\"Convert this dataframe to an interactive table.\"\n",
              "              style=\"display:none;\">\n",
              "        \n",
              "  <svg xmlns=\"http://www.w3.org/2000/svg\" height=\"24px\"viewBox=\"0 0 24 24\"\n",
              "       width=\"24px\">\n",
              "    <path d=\"M0 0h24v24H0V0z\" fill=\"none\"/>\n",
              "    <path d=\"M18.56 5.44l.94 2.06.94-2.06 2.06-.94-2.06-.94-.94-2.06-.94 2.06-2.06.94zm-11 1L8.5 8.5l.94-2.06 2.06-.94-2.06-.94L8.5 2.5l-.94 2.06-2.06.94zm10 10l.94 2.06.94-2.06 2.06-.94-2.06-.94-.94-2.06-.94 2.06-2.06.94z\"/><path d=\"M17.41 7.96l-1.37-1.37c-.4-.4-.92-.59-1.43-.59-.52 0-1.04.2-1.43.59L10.3 9.45l-7.72 7.72c-.78.78-.78 2.05 0 2.83L4 21.41c.39.39.9.59 1.41.59.51 0 1.02-.2 1.41-.59l7.78-7.78 2.81-2.81c.8-.78.8-2.07 0-2.86zM5.41 20L4 18.59l7.72-7.72 1.47 1.35L5.41 20z\"/>\n",
              "  </svg>\n",
              "      </button>\n",
              "      \n",
              "  <style>\n",
              "    .colab-df-container {\n",
              "      display:flex;\n",
              "      flex-wrap:wrap;\n",
              "      gap: 12px;\n",
              "    }\n",
              "\n",
              "    .colab-df-convert {\n",
              "      background-color: #E8F0FE;\n",
              "      border: none;\n",
              "      border-radius: 50%;\n",
              "      cursor: pointer;\n",
              "      display: none;\n",
              "      fill: #1967D2;\n",
              "      height: 32px;\n",
              "      padding: 0 0 0 0;\n",
              "      width: 32px;\n",
              "    }\n",
              "\n",
              "    .colab-df-convert:hover {\n",
              "      background-color: #E2EBFA;\n",
              "      box-shadow: 0px 1px 2px rgba(60, 64, 67, 0.3), 0px 1px 3px 1px rgba(60, 64, 67, 0.15);\n",
              "      fill: #174EA6;\n",
              "    }\n",
              "\n",
              "    [theme=dark] .colab-df-convert {\n",
              "      background-color: #3B4455;\n",
              "      fill: #D2E3FC;\n",
              "    }\n",
              "\n",
              "    [theme=dark] .colab-df-convert:hover {\n",
              "      background-color: #434B5C;\n",
              "      box-shadow: 0px 1px 3px 1px rgba(0, 0, 0, 0.15);\n",
              "      filter: drop-shadow(0px 1px 2px rgba(0, 0, 0, 0.3));\n",
              "      fill: #FFFFFF;\n",
              "    }\n",
              "  </style>\n",
              "\n",
              "      <script>\n",
              "        const buttonEl =\n",
              "          document.querySelector('#df-9b548dd6-3873-46ac-b4db-262b02c162e0 button.colab-df-convert');\n",
              "        buttonEl.style.display =\n",
              "          google.colab.kernel.accessAllowed ? 'block' : 'none';\n",
              "\n",
              "        async function convertToInteractive(key) {\n",
              "          const element = document.querySelector('#df-9b548dd6-3873-46ac-b4db-262b02c162e0');\n",
              "          const dataTable =\n",
              "            await google.colab.kernel.invokeFunction('convertToInteractive',\n",
              "                                                     [key], {});\n",
              "          if (!dataTable) return;\n",
              "\n",
              "          const docLinkHtml = 'Like what you see? Visit the ' +\n",
              "            '<a target=\"_blank\" href=https://colab.research.google.com/notebooks/data_table.ipynb>data table notebook</a>'\n",
              "            + ' to learn more about interactive tables.';\n",
              "          element.innerHTML = '';\n",
              "          dataTable['output_type'] = 'display_data';\n",
              "          await google.colab.output.renderOutput(dataTable, element);\n",
              "          const docLink = document.createElement('div');\n",
              "          docLink.innerHTML = docLinkHtml;\n",
              "          element.appendChild(docLink);\n",
              "        }\n",
              "      </script>\n",
              "    </div>\n",
              "  </div>\n",
              "  "
            ]
          },
          "metadata": {},
          "execution_count": 8
        }
      ],
      "source": [
        "newdf0"
      ]
    },
    {
      "cell_type": "code",
      "execution_count": 9,
      "metadata": {
        "colab": {
          "base_uri": "https://localhost:8080/"
        },
        "id": "9pD39O5dZVDd",
        "outputId": "7d1528dc-108f-46ec-a450-1e779885c055"
      },
      "outputs": [
        {
          "output_type": "stream",
          "name": "stdout",
          "text": [
            "The sample size of posts/comments in total is 1135\n"
          ]
        }
      ],
      "source": [
        "commentsdf0=newdf0['Total Comments']\n",
        "commentsdf0=commentsdf0.explode('Total Comments')\n",
        "commentsdf0=commentsdf0.dropna()\n",
        "newdf0['Combined Title and Subtext']=newdf0['Combined Title and Subtext'].dropna()\n",
        "combined_df0 = pd.concat([commentsdf0, newdf0['Combined Title and Subtext']], ignore_index=True,axis=0)\n",
        "print(f'The sample size of posts/comments in total is {len(combined_df0)}')\n"
      ]
    },
    {
      "cell_type": "code",
      "source": [
        "combined_df0"
      ],
      "metadata": {
        "colab": {
          "base_uri": "https://localhost:8080/"
        },
        "id": "Ign-EmhOWkSc",
        "outputId": "c375f7a4-21fe-4f4a-f6f1-55ac2f8be0c0"
      },
      "execution_count": 10,
      "outputs": [
        {
          "output_type": "execute_result",
          "data": {
            "text/plain": [
              "0       The strikers should surround that building goi...\n",
              "1       This is part of a growing global strike wave, ...\n",
              "2       Lol literally posting a union president campai...\n",
              "3       The strike that should have started last year?...\n",
              "4       One could tell from the meeting that just ende...\n",
              "                              ...                        \n",
              "1130    Conspiracy time            The UC system is pa...\n",
              "1131                            Strike Ritual            \n",
              "1132                                                  NaN\n",
              "1133    Grad worker union bargaining: FAQs for undergr...\n",
              "1134    For or against the strike I want to know…     ...\n",
              "Length: 1135, dtype: object"
            ]
          },
          "metadata": {},
          "execution_count": 10
        }
      ]
    },
    {
      "cell_type": "code",
      "execution_count": 12,
      "metadata": {
        "colab": {
          "base_uri": "https://localhost:8080/"
        },
        "id": "uaMGi-A1Zh0u",
        "outputId": "da48d1de-6639-4005-ac8b-6cf937180f87"
      },
      "outputs": [
        {
          "output_type": "stream",
          "name": "stderr",
          "text": [
            "[nltk_data] Downloading package vader_lexicon to /root/nltk_data...\n"
          ]
        },
        {
          "output_type": "execute_result",
          "data": {
            "text/plain": [
              "True"
            ]
          },
          "metadata": {},
          "execution_count": 12
        }
      ],
      "source": [
        "import nltk\n",
        "nltk.download('vader_lexicon')"
      ]
    },
    {
      "cell_type": "code",
      "source": [
        "sid = SentimentIntensityAnalyzer()\n",
        "\n",
        "res0 = [*combined_df0.dropna().apply(sid.polarity_scores)]"
      ],
      "metadata": {
        "id": "AhPjBmMDWrrY"
      },
      "execution_count": 13,
      "outputs": []
    },
    {
      "cell_type": "code",
      "source": [
        "sentiment_df = pd.DataFrame.from_records(res0)\n",
        "newerdf0 = pd.concat([combined_df0, sentiment_df], axis=1, join='inner')"
      ],
      "metadata": {
        "id": "OvVlj_1VXDov"
      },
      "execution_count": 15,
      "outputs": []
    },
    {
      "cell_type": "code",
      "execution_count": 17,
      "metadata": {
        "id": "0q4AGjT2aDbh"
      },
      "outputs": [],
      "source": [
        "THRESHOLD = 0.15\n",
        "\n",
        "#week 0\n",
        "conditions = [\n",
        "    (newerdf0['compound'] <= -THRESHOLD),\n",
        "    (newerdf0['compound'] > -THRESHOLD) & (newerdf0['compound'] < THRESHOLD),\n",
        "    (newerdf0['compound'] >= THRESHOLD),\n",
        "    ]\n",
        "\n",
        "values = [\"negative\", \"neutral\", \"positive\"]\n",
        "newerdf0['sentiment'] = np.select(conditions, values)"
      ]
    },
    {
      "cell_type": "code",
      "source": [
        "print(\"all\")\n",
        "newerdf0.sentiment.value_counts()"
      ],
      "metadata": {
        "colab": {
          "base_uri": "https://localhost:8080/"
        },
        "id": "a63vYmsKXoQB",
        "outputId": "d725f24f-65c6-4e50-a3b1-667f1eb849fc"
      },
      "execution_count": 18,
      "outputs": [
        {
          "output_type": "stream",
          "name": "stdout",
          "text": [
            "all\n"
          ]
        },
        {
          "output_type": "execute_result",
          "data": {
            "text/plain": [
              "positive    449\n",
              "negative    393\n",
              "neutral     262\n",
              "Name: sentiment, dtype: int64"
            ]
          },
          "metadata": {},
          "execution_count": 18
        }
      ]
    }
  ],
  "metadata": {
    "colab": {
      "provenance": [],
      "authorship_tag": "ABX9TyOvpJgsbFYbfYuUNo3iNbFE",
      "include_colab_link": true
    },
    "kernelspec": {
      "display_name": "Python 3",
      "name": "python3"
    },
    "language_info": {
      "name": "python"
    }
  },
  "nbformat": 4,
  "nbformat_minor": 0
}